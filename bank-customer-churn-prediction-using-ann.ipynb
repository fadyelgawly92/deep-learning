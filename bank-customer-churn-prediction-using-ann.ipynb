{
 "cells": [
  {
   "cell_type": "code",
   "execution_count": 1,
   "id": "5a055cd4",
   "metadata": {
    "_cell_guid": "b1076dfc-b9ad-4769-8c92-a6c4dae69d19",
    "_uuid": "8f2839f25d086af736a60e9eeb907d3b93b6e0e5",
    "execution": {
     "iopub.execute_input": "2022-05-24T00:30:24.764637Z",
     "iopub.status.busy": "2022-05-24T00:30:24.764078Z",
     "iopub.status.idle": "2022-05-24T00:30:24.779864Z",
     "shell.execute_reply": "2022-05-24T00:30:24.778707Z"
    },
    "papermill": {
     "duration": 0.079315,
     "end_time": "2022-05-24T00:30:24.782460",
     "exception": false,
     "start_time": "2022-05-24T00:30:24.703145",
     "status": "completed"
    },
    "tags": []
   },
   "outputs": [],
   "source": [
    "import numpy as np # linear algebra\n",
    "from matplotlib import pyplot as plt\n",
    "import pandas as pd # data processing, CSV file I/O (e.g. pd.read_csv)\n",
    "%matplotlib inline"
   ]
  },
  {
   "cell_type": "code",
   "execution_count": 2,
   "id": "9a15cbe8",
   "metadata": {
    "execution": {
     "iopub.execute_input": "2022-05-24T00:30:24.899420Z",
     "iopub.status.busy": "2022-05-24T00:30:24.899106Z",
     "iopub.status.idle": "2022-05-24T00:30:24.954151Z",
     "shell.execute_reply": "2022-05-24T00:30:24.953054Z"
    },
    "papermill": {
     "duration": 0.115549,
     "end_time": "2022-05-24T00:30:24.956943",
     "exception": false,
     "start_time": "2022-05-24T00:30:24.841394",
     "status": "completed"
    },
    "tags": []
   },
   "outputs": [],
   "source": [
    "df = pd.read_csv('../input/bank-customers/Churn Modeling.csv')"
   ]
  },
  {
   "cell_type": "code",
   "execution_count": 3,
   "id": "aea3fc2e",
   "metadata": {
    "execution": {
     "iopub.execute_input": "2022-05-24T00:30:25.071066Z",
     "iopub.status.busy": "2022-05-24T00:30:25.070743Z",
     "iopub.status.idle": "2022-05-24T00:30:25.097223Z",
     "shell.execute_reply": "2022-05-24T00:30:25.096156Z"
    },
    "papermill": {
     "duration": 0.087345,
     "end_time": "2022-05-24T00:30:25.100389",
     "exception": false,
     "start_time": "2022-05-24T00:30:25.013044",
     "status": "completed"
    },
    "tags": []
   },
   "outputs": [
    {
     "data": {
      "text/html": [
       "<div>\n",
       "<style scoped>\n",
       "    .dataframe tbody tr th:only-of-type {\n",
       "        vertical-align: middle;\n",
       "    }\n",
       "\n",
       "    .dataframe tbody tr th {\n",
       "        vertical-align: top;\n",
       "    }\n",
       "\n",
       "    .dataframe thead th {\n",
       "        text-align: right;\n",
       "    }\n",
       "</style>\n",
       "<table border=\"1\" class=\"dataframe\">\n",
       "  <thead>\n",
       "    <tr style=\"text-align: right;\">\n",
       "      <th></th>\n",
       "      <th>RowNumber</th>\n",
       "      <th>CustomerId</th>\n",
       "      <th>Surname</th>\n",
       "      <th>CreditScore</th>\n",
       "      <th>Geography</th>\n",
       "      <th>Gender</th>\n",
       "      <th>Age</th>\n",
       "      <th>Tenure</th>\n",
       "      <th>Balance</th>\n",
       "      <th>NumOfProducts</th>\n",
       "      <th>HasCrCard</th>\n",
       "      <th>IsActiveMember</th>\n",
       "      <th>EstimatedSalary</th>\n",
       "      <th>Exited</th>\n",
       "    </tr>\n",
       "  </thead>\n",
       "  <tbody>\n",
       "    <tr>\n",
       "      <th>0</th>\n",
       "      <td>1</td>\n",
       "      <td>15634602</td>\n",
       "      <td>Hargrave</td>\n",
       "      <td>619</td>\n",
       "      <td>France</td>\n",
       "      <td>Female</td>\n",
       "      <td>42</td>\n",
       "      <td>2</td>\n",
       "      <td>0.00</td>\n",
       "      <td>1</td>\n",
       "      <td>1</td>\n",
       "      <td>1</td>\n",
       "      <td>101348.88</td>\n",
       "      <td>1</td>\n",
       "    </tr>\n",
       "    <tr>\n",
       "      <th>1</th>\n",
       "      <td>2</td>\n",
       "      <td>15647311</td>\n",
       "      <td>Hill</td>\n",
       "      <td>608</td>\n",
       "      <td>Spain</td>\n",
       "      <td>Female</td>\n",
       "      <td>41</td>\n",
       "      <td>1</td>\n",
       "      <td>83807.86</td>\n",
       "      <td>1</td>\n",
       "      <td>0</td>\n",
       "      <td>1</td>\n",
       "      <td>112542.58</td>\n",
       "      <td>0</td>\n",
       "    </tr>\n",
       "    <tr>\n",
       "      <th>2</th>\n",
       "      <td>3</td>\n",
       "      <td>15619304</td>\n",
       "      <td>Onio</td>\n",
       "      <td>502</td>\n",
       "      <td>France</td>\n",
       "      <td>Female</td>\n",
       "      <td>42</td>\n",
       "      <td>8</td>\n",
       "      <td>159660.80</td>\n",
       "      <td>3</td>\n",
       "      <td>1</td>\n",
       "      <td>0</td>\n",
       "      <td>113931.57</td>\n",
       "      <td>1</td>\n",
       "    </tr>\n",
       "    <tr>\n",
       "      <th>3</th>\n",
       "      <td>4</td>\n",
       "      <td>15701354</td>\n",
       "      <td>Boni</td>\n",
       "      <td>699</td>\n",
       "      <td>France</td>\n",
       "      <td>Female</td>\n",
       "      <td>39</td>\n",
       "      <td>1</td>\n",
       "      <td>0.00</td>\n",
       "      <td>2</td>\n",
       "      <td>0</td>\n",
       "      <td>0</td>\n",
       "      <td>93826.63</td>\n",
       "      <td>0</td>\n",
       "    </tr>\n",
       "    <tr>\n",
       "      <th>4</th>\n",
       "      <td>5</td>\n",
       "      <td>15737888</td>\n",
       "      <td>Mitchell</td>\n",
       "      <td>850</td>\n",
       "      <td>Spain</td>\n",
       "      <td>Female</td>\n",
       "      <td>43</td>\n",
       "      <td>2</td>\n",
       "      <td>125510.82</td>\n",
       "      <td>1</td>\n",
       "      <td>1</td>\n",
       "      <td>1</td>\n",
       "      <td>79084.10</td>\n",
       "      <td>0</td>\n",
       "    </tr>\n",
       "  </tbody>\n",
       "</table>\n",
       "</div>"
      ],
      "text/plain": [
       "   RowNumber  CustomerId   Surname  CreditScore Geography  Gender  Age  \\\n",
       "0          1    15634602  Hargrave          619    France  Female   42   \n",
       "1          2    15647311      Hill          608     Spain  Female   41   \n",
       "2          3    15619304      Onio          502    France  Female   42   \n",
       "3          4    15701354      Boni          699    France  Female   39   \n",
       "4          5    15737888  Mitchell          850     Spain  Female   43   \n",
       "\n",
       "   Tenure    Balance  NumOfProducts  HasCrCard  IsActiveMember  \\\n",
       "0       2       0.00              1          1               1   \n",
       "1       1   83807.86              1          0               1   \n",
       "2       8  159660.80              3          1               0   \n",
       "3       1       0.00              2          0               0   \n",
       "4       2  125510.82              1          1               1   \n",
       "\n",
       "   EstimatedSalary  Exited  \n",
       "0        101348.88       1  \n",
       "1        112542.58       0  \n",
       "2        113931.57       1  \n",
       "3         93826.63       0  \n",
       "4         79084.10       0  "
      ]
     },
     "execution_count": 3,
     "metadata": {},
     "output_type": "execute_result"
    }
   ],
   "source": [
    "df.head()"
   ]
  },
  {
   "cell_type": "code",
   "execution_count": 4,
   "id": "ccd3c579",
   "metadata": {
    "execution": {
     "iopub.execute_input": "2022-05-24T00:30:25.215373Z",
     "iopub.status.busy": "2022-05-24T00:30:25.215054Z",
     "iopub.status.idle": "2022-05-24T00:30:25.221644Z",
     "shell.execute_reply": "2022-05-24T00:30:25.220631Z"
    },
    "papermill": {
     "duration": 0.067573,
     "end_time": "2022-05-24T00:30:25.223981",
     "exception": false,
     "start_time": "2022-05-24T00:30:25.156408",
     "status": "completed"
    },
    "tags": []
   },
   "outputs": [
    {
     "data": {
      "text/plain": [
       "(10000, 14)"
      ]
     },
     "execution_count": 4,
     "metadata": {},
     "output_type": "execute_result"
    }
   ],
   "source": [
    "df.shape"
   ]
  },
  {
   "cell_type": "code",
   "execution_count": 5,
   "id": "bb0e891c",
   "metadata": {
    "execution": {
     "iopub.execute_input": "2022-05-24T00:30:25.344613Z",
     "iopub.status.busy": "2022-05-24T00:30:25.344298Z",
     "iopub.status.idle": "2022-05-24T00:30:25.359025Z",
     "shell.execute_reply": "2022-05-24T00:30:25.357998Z"
    },
    "papermill": {
     "duration": 0.078128,
     "end_time": "2022-05-24T00:30:25.362017",
     "exception": false,
     "start_time": "2022-05-24T00:30:25.283889",
     "status": "completed"
    },
    "tags": []
   },
   "outputs": [],
   "source": [
    "df.drop(['CustomerId','Surname','RowNumber'],axis=1,inplace=True)"
   ]
  },
  {
   "cell_type": "code",
   "execution_count": 6,
   "id": "6929ea3a",
   "metadata": {
    "execution": {
     "iopub.execute_input": "2022-05-24T00:30:25.477206Z",
     "iopub.status.busy": "2022-05-24T00:30:25.476540Z",
     "iopub.status.idle": "2022-05-24T00:30:25.491637Z",
     "shell.execute_reply": "2022-05-24T00:30:25.490826Z"
    },
    "papermill": {
     "duration": 0.074992,
     "end_time": "2022-05-24T00:30:25.493813",
     "exception": false,
     "start_time": "2022-05-24T00:30:25.418821",
     "status": "completed"
    },
    "tags": []
   },
   "outputs": [
    {
     "data": {
      "text/html": [
       "<div>\n",
       "<style scoped>\n",
       "    .dataframe tbody tr th:only-of-type {\n",
       "        vertical-align: middle;\n",
       "    }\n",
       "\n",
       "    .dataframe tbody tr th {\n",
       "        vertical-align: top;\n",
       "    }\n",
       "\n",
       "    .dataframe thead th {\n",
       "        text-align: right;\n",
       "    }\n",
       "</style>\n",
       "<table border=\"1\" class=\"dataframe\">\n",
       "  <thead>\n",
       "    <tr style=\"text-align: right;\">\n",
       "      <th></th>\n",
       "      <th>CreditScore</th>\n",
       "      <th>Geography</th>\n",
       "      <th>Gender</th>\n",
       "      <th>Age</th>\n",
       "      <th>Tenure</th>\n",
       "      <th>Balance</th>\n",
       "      <th>NumOfProducts</th>\n",
       "      <th>HasCrCard</th>\n",
       "      <th>IsActiveMember</th>\n",
       "      <th>EstimatedSalary</th>\n",
       "      <th>Exited</th>\n",
       "    </tr>\n",
       "  </thead>\n",
       "  <tbody>\n",
       "    <tr>\n",
       "      <th>0</th>\n",
       "      <td>619</td>\n",
       "      <td>France</td>\n",
       "      <td>Female</td>\n",
       "      <td>42</td>\n",
       "      <td>2</td>\n",
       "      <td>0.00</td>\n",
       "      <td>1</td>\n",
       "      <td>1</td>\n",
       "      <td>1</td>\n",
       "      <td>101348.88</td>\n",
       "      <td>1</td>\n",
       "    </tr>\n",
       "    <tr>\n",
       "      <th>1</th>\n",
       "      <td>608</td>\n",
       "      <td>Spain</td>\n",
       "      <td>Female</td>\n",
       "      <td>41</td>\n",
       "      <td>1</td>\n",
       "      <td>83807.86</td>\n",
       "      <td>1</td>\n",
       "      <td>0</td>\n",
       "      <td>1</td>\n",
       "      <td>112542.58</td>\n",
       "      <td>0</td>\n",
       "    </tr>\n",
       "    <tr>\n",
       "      <th>2</th>\n",
       "      <td>502</td>\n",
       "      <td>France</td>\n",
       "      <td>Female</td>\n",
       "      <td>42</td>\n",
       "      <td>8</td>\n",
       "      <td>159660.80</td>\n",
       "      <td>3</td>\n",
       "      <td>1</td>\n",
       "      <td>0</td>\n",
       "      <td>113931.57</td>\n",
       "      <td>1</td>\n",
       "    </tr>\n",
       "    <tr>\n",
       "      <th>3</th>\n",
       "      <td>699</td>\n",
       "      <td>France</td>\n",
       "      <td>Female</td>\n",
       "      <td>39</td>\n",
       "      <td>1</td>\n",
       "      <td>0.00</td>\n",
       "      <td>2</td>\n",
       "      <td>0</td>\n",
       "      <td>0</td>\n",
       "      <td>93826.63</td>\n",
       "      <td>0</td>\n",
       "    </tr>\n",
       "    <tr>\n",
       "      <th>4</th>\n",
       "      <td>850</td>\n",
       "      <td>Spain</td>\n",
       "      <td>Female</td>\n",
       "      <td>43</td>\n",
       "      <td>2</td>\n",
       "      <td>125510.82</td>\n",
       "      <td>1</td>\n",
       "      <td>1</td>\n",
       "      <td>1</td>\n",
       "      <td>79084.10</td>\n",
       "      <td>0</td>\n",
       "    </tr>\n",
       "  </tbody>\n",
       "</table>\n",
       "</div>"
      ],
      "text/plain": [
       "   CreditScore Geography  Gender  Age  Tenure    Balance  NumOfProducts  \\\n",
       "0          619    France  Female   42       2       0.00              1   \n",
       "1          608     Spain  Female   41       1   83807.86              1   \n",
       "2          502    France  Female   42       8  159660.80              3   \n",
       "3          699    France  Female   39       1       0.00              2   \n",
       "4          850     Spain  Female   43       2  125510.82              1   \n",
       "\n",
       "   HasCrCard  IsActiveMember  EstimatedSalary  Exited  \n",
       "0          1               1        101348.88       1  \n",
       "1          0               1        112542.58       0  \n",
       "2          1               0        113931.57       1  \n",
       "3          0               0         93826.63       0  \n",
       "4          1               1         79084.10       0  "
      ]
     },
     "execution_count": 6,
     "metadata": {},
     "output_type": "execute_result"
    }
   ],
   "source": [
    "df.head()"
   ]
  },
  {
   "cell_type": "code",
   "execution_count": 7,
   "id": "2fdea8b7",
   "metadata": {
    "execution": {
     "iopub.execute_input": "2022-05-24T00:30:25.609484Z",
     "iopub.status.busy": "2022-05-24T00:30:25.608885Z",
     "iopub.status.idle": "2022-05-24T00:30:25.634991Z",
     "shell.execute_reply": "2022-05-24T00:30:25.634086Z"
    },
    "papermill": {
     "duration": 0.087516,
     "end_time": "2022-05-24T00:30:25.638019",
     "exception": false,
     "start_time": "2022-05-24T00:30:25.550503",
     "status": "completed"
    },
    "tags": []
   },
   "outputs": [
    {
     "name": "stdout",
     "output_type": "stream",
     "text": [
      "<class 'pandas.core.frame.DataFrame'>\n",
      "RangeIndex: 10000 entries, 0 to 9999\n",
      "Data columns (total 11 columns):\n",
      " #   Column           Non-Null Count  Dtype  \n",
      "---  ------           --------------  -----  \n",
      " 0   CreditScore      10000 non-null  int64  \n",
      " 1   Geography        10000 non-null  object \n",
      " 2   Gender           10000 non-null  object \n",
      " 3   Age              10000 non-null  int64  \n",
      " 4   Tenure           10000 non-null  int64  \n",
      " 5   Balance          10000 non-null  float64\n",
      " 6   NumOfProducts    10000 non-null  int64  \n",
      " 7   HasCrCard        10000 non-null  int64  \n",
      " 8   IsActiveMember   10000 non-null  int64  \n",
      " 9   EstimatedSalary  10000 non-null  float64\n",
      " 10  Exited           10000 non-null  int64  \n",
      "dtypes: float64(2), int64(7), object(2)\n",
      "memory usage: 859.5+ KB\n"
     ]
    }
   ],
   "source": [
    "df.info()"
   ]
  },
  {
   "cell_type": "code",
   "execution_count": 8,
   "id": "1b7f10bf",
   "metadata": {
    "execution": {
     "iopub.execute_input": "2022-05-24T00:30:25.755608Z",
     "iopub.status.busy": "2022-05-24T00:30:25.754980Z",
     "iopub.status.idle": "2022-05-24T00:30:25.764811Z",
     "shell.execute_reply": "2022-05-24T00:30:25.763950Z"
    },
    "papermill": {
     "duration": 0.070655,
     "end_time": "2022-05-24T00:30:25.766924",
     "exception": false,
     "start_time": "2022-05-24T00:30:25.696269",
     "status": "completed"
    },
    "tags": []
   },
   "outputs": [
    {
     "data": {
      "text/plain": [
       "France     5014\n",
       "Germany    2509\n",
       "Spain      2477\n",
       "Name: Geography, dtype: int64"
      ]
     },
     "execution_count": 8,
     "metadata": {},
     "output_type": "execute_result"
    }
   ],
   "source": [
    "df['Geography'].value_counts()"
   ]
  },
  {
   "cell_type": "code",
   "execution_count": 9,
   "id": "1cd731d9",
   "metadata": {
    "execution": {
     "iopub.execute_input": "2022-05-24T00:30:25.885603Z",
     "iopub.status.busy": "2022-05-24T00:30:25.884956Z",
     "iopub.status.idle": "2022-05-24T00:30:25.917310Z",
     "shell.execute_reply": "2022-05-24T00:30:25.916726Z"
    },
    "papermill": {
     "duration": 0.094498,
     "end_time": "2022-05-24T00:30:25.919158",
     "exception": false,
     "start_time": "2022-05-24T00:30:25.824660",
     "status": "completed"
    },
    "tags": []
   },
   "outputs": [
    {
     "data": {
      "text/html": [
       "<div>\n",
       "<style scoped>\n",
       "    .dataframe tbody tr th:only-of-type {\n",
       "        vertical-align: middle;\n",
       "    }\n",
       "\n",
       "    .dataframe tbody tr th {\n",
       "        vertical-align: top;\n",
       "    }\n",
       "\n",
       "    .dataframe thead th {\n",
       "        text-align: right;\n",
       "    }\n",
       "</style>\n",
       "<table border=\"1\" class=\"dataframe\">\n",
       "  <thead>\n",
       "    <tr style=\"text-align: right;\">\n",
       "      <th>Exited</th>\n",
       "      <th>0</th>\n",
       "      <th>1</th>\n",
       "    </tr>\n",
       "    <tr>\n",
       "      <th>Geography</th>\n",
       "      <th></th>\n",
       "      <th></th>\n",
       "    </tr>\n",
       "  </thead>\n",
       "  <tbody>\n",
       "    <tr>\n",
       "      <th>France</th>\n",
       "      <td>4204</td>\n",
       "      <td>810</td>\n",
       "    </tr>\n",
       "    <tr>\n",
       "      <th>Germany</th>\n",
       "      <td>1695</td>\n",
       "      <td>814</td>\n",
       "    </tr>\n",
       "    <tr>\n",
       "      <th>Spain</th>\n",
       "      <td>2064</td>\n",
       "      <td>413</td>\n",
       "    </tr>\n",
       "  </tbody>\n",
       "</table>\n",
       "</div>"
      ],
      "text/plain": [
       "Exited        0    1\n",
       "Geography           \n",
       "France     4204  810\n",
       "Germany    1695  814\n",
       "Spain      2064  413"
      ]
     },
     "execution_count": 9,
     "metadata": {},
     "output_type": "execute_result"
    }
   ],
   "source": [
    "pd.crosstab(df['Geography'],df['Exited'])"
   ]
  },
  {
   "cell_type": "code",
   "execution_count": 10,
   "id": "c4867ef3",
   "metadata": {
    "execution": {
     "iopub.execute_input": "2022-05-24T00:30:26.040164Z",
     "iopub.status.busy": "2022-05-24T00:30:26.039559Z",
     "iopub.status.idle": "2022-05-24T00:30:26.435997Z",
     "shell.execute_reply": "2022-05-24T00:30:26.435144Z"
    },
    "papermill": {
     "duration": 0.460991,
     "end_time": "2022-05-24T00:30:26.439191",
     "exception": false,
     "start_time": "2022-05-24T00:30:25.978200",
     "status": "completed"
    },
    "tags": []
   },
   "outputs": [
    {
     "data": {
      "text/plain": [
       "<matplotlib.legend.Legend at 0x7fa7c12abe90>"
      ]
     },
     "execution_count": 10,
     "metadata": {},
     "output_type": "execute_result"
    },
    {
     "data": {
      "image/png": "[encoded data removed]",
      "text/plain": [
       "<Figure size 432x288 with 1 Axes>"
      ]
     },
     "metadata": {
      "needs_background": "light"
     },
     "output_type": "display_data"
    }
   ],
   "source": [
    "geography_exit_no = df[df['Exited'] == 0].Geography\n",
    "geography_exit_yes = df[df['Exited'] == 1].Geography\n",
    "\n",
    "plt.xlabel('geography')\n",
    "plt.ylabel('Number Of Customer')\n",
    "plt.title('Customer exited Prediction Visualization')\n",
    "\n",
    "plt.hist([geography_exit_yes,geography_exit_no], color=['green','red'],label=['Exit=Yes','Exit=No'])\n",
    "plt.legend()"
   ]
  },
  {
   "cell_type": "code",
   "execution_count": 11,
   "id": "d3395bd8",
   "metadata": {
    "execution": {
     "iopub.execute_input": "2022-05-24T00:30:26.562453Z",
     "iopub.status.busy": "2022-05-24T00:30:26.562200Z",
     "iopub.status.idle": "2022-05-24T00:30:26.571337Z",
     "shell.execute_reply": "2022-05-24T00:30:26.570573Z"
    },
    "papermill": {
     "duration": 0.071867,
     "end_time": "2022-05-24T00:30:26.573124",
     "exception": false,
     "start_time": "2022-05-24T00:30:26.501257",
     "status": "completed"
    },
    "tags": []
   },
   "outputs": [
    {
     "data": {
      "text/plain": [
       "Male      5457\n",
       "Female    4543\n",
       "Name: Gender, dtype: int64"
      ]
     },
     "execution_count": 11,
     "metadata": {},
     "output_type": "execute_result"
    }
   ],
   "source": [
    "df['Gender'].value_counts()"
   ]
  },
  {
   "cell_type": "code",
   "execution_count": 12,
   "id": "d383db3d",
   "metadata": {
    "execution": {
     "iopub.execute_input": "2022-05-24T00:30:26.693803Z",
     "iopub.status.busy": "2022-05-24T00:30:26.693193Z",
     "iopub.status.idle": "2022-05-24T00:30:26.918496Z",
     "shell.execute_reply": "2022-05-24T00:30:26.917417Z"
    },
    "papermill": {
     "duration": 0.28902,
     "end_time": "2022-05-24T00:30:26.920939",
     "exception": false,
     "start_time": "2022-05-24T00:30:26.631919",
     "status": "completed"
    },
    "tags": []
   },
   "outputs": [
    {
     "data": {
      "text/plain": [
       "<matplotlib.legend.Legend at 0x7fa7c11138d0>"
      ]
     },
     "execution_count": 12,
     "metadata": {},
     "output_type": "execute_result"
    },
    {
     "data": {
      "image/png": "[encoded data removed]",
      "text/plain": [
       "<Figure size 432x288 with 1 Axes>"
      ]
     },
     "metadata": {
      "needs_background": "light"
     },
     "output_type": "display_data"
    }
   ],
   "source": [
    "gender_exit_no = df[df['Exited'] == 0].Gender\n",
    "gender_exit_yes = df[df['Exited'] == 1].Gender\n",
    "\n",
    "plt.xlabel('Gender')\n",
    "plt.ylabel('Number Of Customer')\n",
    "plt.title('Customer exited Prediction Visualization')\n",
    "\n",
    "plt.hist([gender_exit_yes,gender_exit_no], color=['green','red'],label=['Exit=Yes','Exit=No'])\n",
    "plt.legend()"
   ]
  },
  {
   "cell_type": "code",
   "execution_count": 13,
   "id": "538f2a4d",
   "metadata": {
    "execution": {
     "iopub.execute_input": "2022-05-24T00:30:27.051416Z",
     "iopub.status.busy": "2022-05-24T00:30:27.051089Z",
     "iopub.status.idle": "2022-05-24T00:30:27.060844Z",
     "shell.execute_reply": "2022-05-24T00:30:27.059880Z"
    },
    "papermill": {
     "duration": 0.07723,
     "end_time": "2022-05-24T00:30:27.063391",
     "exception": false,
     "start_time": "2022-05-24T00:30:26.986161",
     "status": "completed"
    },
    "tags": []
   },
   "outputs": [
    {
     "data": {
      "text/plain": [
       "1    5084\n",
       "2    4590\n",
       "3     266\n",
       "4      60\n",
       "Name: NumOfProducts, dtype: int64"
      ]
     },
     "execution_count": 13,
     "metadata": {},
     "output_type": "execute_result"
    }
   ],
   "source": [
    "df['NumOfProducts'].value_counts()"
   ]
  },
  {
   "cell_type": "code",
   "execution_count": 14,
   "id": "9da01ff0",
   "metadata": {
    "execution": {
     "iopub.execute_input": "2022-05-24T00:30:27.189013Z",
     "iopub.status.busy": "2022-05-24T00:30:27.188150Z",
     "iopub.status.idle": "2022-05-24T00:30:27.465167Z",
     "shell.execute_reply": "2022-05-24T00:30:27.463995Z"
    },
    "papermill": {
     "duration": 0.341899,
     "end_time": "2022-05-24T00:30:27.467351",
     "exception": false,
     "start_time": "2022-05-24T00:30:27.125452",
     "status": "completed"
    },
    "tags": []
   },
   "outputs": [
    {
     "data": {
      "text/plain": [
       "<matplotlib.legend.Legend at 0x7fa7c10a5ad0>"
      ]
     },
     "execution_count": 14,
     "metadata": {},
     "output_type": "execute_result"
    },
    {
     "data": {
      "image/png": "[encoded data removed]",
      "text/plain": [
       "<Figure size 432x288 with 1 Axes>"
      ]
     },
     "metadata": {
      "needs_background": "light"
     },
     "output_type": "display_data"
    }
   ],
   "source": [
    "productsNum_exit_no = df[df['Exited'] == 0].NumOfProducts\n",
    "productsNum_exit_yes = df[df['Exited'] == 1].NumOfProducts\n",
    "\n",
    "plt.xlabel('productsNum')\n",
    "plt.ylabel('Number Of Customer')\n",
    "plt.title('Customer exited Prediction Visualization')\n",
    "\n",
    "plt.hist([productsNum_exit_yes,productsNum_exit_no], color=['green','red'],label=['Exit=Yes','Exit=No'])\n",
    "plt.legend()"
   ]
  },
  {
   "cell_type": "code",
   "execution_count": 15,
   "id": "958de37a",
   "metadata": {
    "execution": {
     "iopub.execute_input": "2022-05-24T00:30:27.595051Z",
     "iopub.status.busy": "2022-05-24T00:30:27.594671Z",
     "iopub.status.idle": "2022-05-24T00:30:27.603811Z",
     "shell.execute_reply": "2022-05-24T00:30:27.602758Z"
    },
    "papermill": {
     "duration": 0.075962,
     "end_time": "2022-05-24T00:30:27.605804",
     "exception": false,
     "start_time": "2022-05-24T00:30:27.529842",
     "status": "completed"
    },
    "tags": []
   },
   "outputs": [
    {
     "data": {
      "text/plain": [
       "0    7963\n",
       "1    2037\n",
       "Name: Exited, dtype: int64"
      ]
     },
     "execution_count": 15,
     "metadata": {},
     "output_type": "execute_result"
    }
   ],
   "source": [
    "df['Exited'].value_counts()"
   ]
  },
  {
   "cell_type": "code",
   "execution_count": 16,
   "id": "19e74719",
   "metadata": {
    "execution": {
     "iopub.execute_input": "2022-05-24T00:30:27.734783Z",
     "iopub.status.busy": "2022-05-24T00:30:27.734408Z",
     "iopub.status.idle": "2022-05-24T00:30:27.740053Z",
     "shell.execute_reply": "2022-05-24T00:30:27.739338Z"
    },
    "papermill": {
     "duration": 0.073407,
     "end_time": "2022-05-24T00:30:27.741935",
     "exception": false,
     "start_time": "2022-05-24T00:30:27.668528",
     "status": "completed"
    },
    "tags": []
   },
   "outputs": [],
   "source": [
    "total_exit_sum = df['Exited'].value_counts().values.sum()"
   ]
  },
  {
   "cell_type": "code",
   "execution_count": 17,
   "id": "72090dab",
   "metadata": {
    "execution": {
     "iopub.execute_input": "2022-05-24T00:30:27.871720Z",
     "iopub.status.busy": "2022-05-24T00:30:27.871241Z",
     "iopub.status.idle": "2022-05-24T00:30:27.877836Z",
     "shell.execute_reply": "2022-05-24T00:30:27.877245Z"
    },
    "papermill": {
     "duration": 0.073802,
     "end_time": "2022-05-24T00:30:27.879612",
     "exception": false,
     "start_time": "2022-05-24T00:30:27.805810",
     "status": "completed"
    },
    "tags": []
   },
   "outputs": [
    {
     "data": {
      "text/plain": [
       "79.63"
      ]
     },
     "execution_count": 17,
     "metadata": {},
     "output_type": "execute_result"
    }
   ],
   "source": [
    "no_exit_percentage = round( (df['Exited'].value_counts()[0] / total_exit_sum) * 100 , 2)\n",
    "no_exit_percentage"
   ]
  },
  {
   "cell_type": "code",
   "execution_count": 18,
   "id": "231705f1",
   "metadata": {
    "execution": {
     "iopub.execute_input": "2022-05-24T00:30:28.014140Z",
     "iopub.status.busy": "2022-05-24T00:30:28.013641Z",
     "iopub.status.idle": "2022-05-24T00:30:28.020907Z",
     "shell.execute_reply": "2022-05-24T00:30:28.020083Z"
    },
    "papermill": {
     "duration": 0.079663,
     "end_time": "2022-05-24T00:30:28.023417",
     "exception": false,
     "start_time": "2022-05-24T00:30:27.943754",
     "status": "completed"
    },
    "tags": []
   },
   "outputs": [
    {
     "data": {
      "text/plain": [
       "20.37"
      ]
     },
     "execution_count": 18,
     "metadata": {},
     "output_type": "execute_result"
    }
   ],
   "source": [
    "yes_exit_percentage = round( (df['Exited'].value_counts()[1] / total_exit_sum) * 100 , 2)\n",
    "yes_exit_percentage"
   ]
  },
  {
   "cell_type": "code",
   "execution_count": 19,
   "id": "cc94d6b2",
   "metadata": {
    "execution": {
     "iopub.execute_input": "2022-05-24T00:30:28.155309Z",
     "iopub.status.busy": "2022-05-24T00:30:28.154959Z",
     "iopub.status.idle": "2022-05-24T00:30:28.171175Z",
     "shell.execute_reply": "2022-05-24T00:30:28.170346Z"
    },
    "papermill": {
     "duration": 0.083932,
     "end_time": "2022-05-24T00:30:28.173788",
     "exception": false,
     "start_time": "2022-05-24T00:30:28.089856",
     "status": "completed"
    },
    "tags": []
   },
   "outputs": [
    {
     "name": "stdout",
     "output_type": "stream",
     "text": [
      "CreditScore : [619 608 502 699 850 645 822 376 501 684 528 497 476 549 635 616 653 587\n",
      " 726 732 636 510 669 846 577 756 571 574 411 591 533 553 520 722 475 490\n",
      " 804 582 472 465 556 834 660 776 829 637 550 698 585 788 655 601 656 725\n",
      " 511 614 742 687 555 603 751 581 735 661 675 738 813 657 604 519 664 678\n",
      " 757 416 665 777 543 506 493 652 750 729 646 647 808 524 769 730 515 773\n",
      " 814 710 413 623 670 622 785 605 479 685 538 562 721 628 668 828 674 625\n",
      " 432 770 758 795 686 789 589 461 584 579 663 682 793 691 485 650 754 535\n",
      " 716 539 706 586 631 717 800 683 704 615 667 484 480 578 512 606 597 778\n",
      " 514 525 715 580 807 521 759 516 711 618 643 671 689 620 676 572 695 592\n",
      " 567 694 547 594 673 610 767 763 712 703 662 659 523 772 545 634 739 771\n",
      " 681 544 696 766 727 693 557 531 498 651 791 733 811 707 714 782 775 799\n",
      " 602 744 588 747 583 627 731 629 438 642 806 474 559 429 680 749 734 644\n",
      " 626 649 805 718 840 630 654 762 568 613 522 737 648 443 640 540 460 593\n",
      " 801 611 802 745 483 690 492 709 705 560 752 701 537 487 596 702 486 724\n",
      " 548 464 790 534 748 494 590 468 509 818 816 536 753 774 621 569 658 798\n",
      " 641 542 692 639 765 570 638 599 632 779 527 564 833 504 842 508 417 598\n",
      " 741 607 761 848 546 439 755 760 526 713 700 666 566 495 688 612 477 427\n",
      " 839 819 720 459 503 624 529 563 482 796 445 746 786 554 672 787 499 844\n",
      " 450 815 838 803 736 633 600 679 517 792 743 488 421 841 708 507 505 456\n",
      " 435 561 518 565 728 784 552 609 764 697 723 551 444 719 496 541 830 812\n",
      " 677 420 595 617 809 500 826 434 513 478 797 363 399 463 780 452 575 837\n",
      " 794 824 428 823 781 849 489 431 457 768 831 359 820 573 576 558 817 449\n",
      " 440 415 821 530 350 446 425 740 481 783 358 845 451 458 469 423 404 836\n",
      " 473 835 466 491 351 827 843 365 532 414 453 471 401 810 832 470 447 422\n",
      " 825 430 436 426 408 847 418 437 410 454 407 455 462 386 405 383 395 467\n",
      " 433 442 424 448 441 367 412 382 373 419]\n",
      "Geography : ['France' 'Spain' 'Germany']\n",
      "Gender : ['Female' 'Male']\n",
      "Age : [42 41 39 43 44 50 29 27 31 24 34 25 35 45 58 32 38 46 36 33 40 51 61 49\n",
      " 37 19 66 56 26 21 55 75 22 30 28 65 48 52 57 73 47 54 72 20 67 79 62 53\n",
      " 80 59 68 23 60 70 63 64 18 82 69 74 71 76 77 88 85 84 78 81 92 83]\n",
      "Tenure : [ 2  1  8  7  4  6  3 10  5  9  0]\n",
      "Balance : [     0.    83807.86 159660.8  ...  57369.61  75075.31 130142.79]\n",
      "NumOfProducts : [1 3 2 4]\n",
      "HasCrCard : [1 0]\n",
      "IsActiveMember : [1 0]\n",
      "EstimatedSalary : [101348.88 112542.58 113931.57 ...  42085.58  92888.52  38190.78]\n",
      "Exited : [1 0]\n"
     ]
    }
   ],
   "source": [
    "for col in df:\n",
    "    print(f'{col} : {df[col].unique()}')"
   ]
  },
  {
   "cell_type": "code",
   "execution_count": 20,
   "id": "954fa1ec",
   "metadata": {
    "execution": {
     "iopub.execute_input": "2022-05-24T00:30:28.306181Z",
     "iopub.status.busy": "2022-05-24T00:30:28.305509Z",
     "iopub.status.idle": "2022-05-24T00:30:28.317956Z",
     "shell.execute_reply": "2022-05-24T00:30:28.317180Z"
    },
    "papermill": {
     "duration": 0.081367,
     "end_time": "2022-05-24T00:30:28.320294",
     "exception": false,
     "start_time": "2022-05-24T00:30:28.238927",
     "status": "completed"
    },
    "tags": []
   },
   "outputs": [],
   "source": [
    "df['Gender'].replace({'Female':1,'Male':0},inplace=True)"
   ]
  },
  {
   "cell_type": "code",
   "execution_count": 21,
   "id": "ff672dcd",
   "metadata": {
    "execution": {
     "iopub.execute_input": "2022-05-24T00:30:28.451110Z",
     "iopub.status.busy": "2022-05-24T00:30:28.450207Z",
     "iopub.status.idle": "2022-05-24T00:30:28.457564Z",
     "shell.execute_reply": "2022-05-24T00:30:28.456735Z"
    },
    "papermill": {
     "duration": 0.075027,
     "end_time": "2022-05-24T00:30:28.459749",
     "exception": false,
     "start_time": "2022-05-24T00:30:28.384722",
     "status": "completed"
    },
    "tags": []
   },
   "outputs": [
    {
     "data": {
      "text/plain": [
       "array([1, 0])"
      ]
     },
     "execution_count": 21,
     "metadata": {},
     "output_type": "execute_result"
    }
   ],
   "source": [
    "df['Gender'].unique()"
   ]
  },
  {
   "cell_type": "code",
   "execution_count": 22,
   "id": "8474e30f",
   "metadata": {
    "execution": {
     "iopub.execute_input": "2022-05-24T00:30:28.590373Z",
     "iopub.status.busy": "2022-05-24T00:30:28.589736Z",
     "iopub.status.idle": "2022-05-24T00:30:28.604999Z",
     "shell.execute_reply": "2022-05-24T00:30:28.603834Z"
    },
    "papermill": {
     "duration": 0.08373,
     "end_time": "2022-05-24T00:30:28.607963",
     "exception": false,
     "start_time": "2022-05-24T00:30:28.524233",
     "status": "completed"
    },
    "tags": []
   },
   "outputs": [],
   "source": [
    "df1= pd.get_dummies(data=df,columns=['Geography','NumOfProducts'])"
   ]
  },
  {
   "cell_type": "code",
   "execution_count": 23,
   "id": "97d49290",
   "metadata": {
    "execution": {
     "iopub.execute_input": "2022-05-24T00:30:28.739098Z",
     "iopub.status.busy": "2022-05-24T00:30:28.738760Z",
     "iopub.status.idle": "2022-05-24T00:30:28.745360Z",
     "shell.execute_reply": "2022-05-24T00:30:28.744734Z"
    },
    "papermill": {
     "duration": 0.074584,
     "end_time": "2022-05-24T00:30:28.747256",
     "exception": false,
     "start_time": "2022-05-24T00:30:28.672672",
     "status": "completed"
    },
    "tags": []
   },
   "outputs": [
    {
     "data": {
      "text/plain": [
       "Index(['CreditScore', 'Gender', 'Age', 'Tenure', 'Balance', 'HasCrCard',\n",
       "       'IsActiveMember', 'EstimatedSalary', 'Exited', 'Geography_France',\n",
       "       'Geography_Germany', 'Geography_Spain', 'NumOfProducts_1',\n",
       "       'NumOfProducts_2', 'NumOfProducts_3', 'NumOfProducts_4'],\n",
       "      dtype='object')"
      ]
     },
     "execution_count": 23,
     "metadata": {},
     "output_type": "execute_result"
    }
   ],
   "source": [
    "df1.columns"
   ]
  },
  {
   "cell_type": "code",
   "execution_count": 24,
   "id": "0235ed6a",
   "metadata": {
    "execution": {
     "iopub.execute_input": "2022-05-24T00:30:28.881392Z",
     "iopub.status.busy": "2022-05-24T00:30:28.880974Z",
     "iopub.status.idle": "2022-05-24T00:30:28.895847Z",
     "shell.execute_reply": "2022-05-24T00:30:28.895016Z"
    },
    "papermill": {
     "duration": 0.083589,
     "end_time": "2022-05-24T00:30:28.897891",
     "exception": false,
     "start_time": "2022-05-24T00:30:28.814302",
     "status": "completed"
    },
    "tags": []
   },
   "outputs": [
    {
     "data": {
      "text/html": [
       "<div>\n",
       "<style scoped>\n",
       "    .dataframe tbody tr th:only-of-type {\n",
       "        vertical-align: middle;\n",
       "    }\n",
       "\n",
       "    .dataframe tbody tr th {\n",
       "        vertical-align: top;\n",
       "    }\n",
       "\n",
       "    .dataframe thead th {\n",
       "        text-align: right;\n",
       "    }\n",
       "</style>\n",
       "<table border=\"1\" class=\"dataframe\">\n",
       "  <thead>\n",
       "    <tr style=\"text-align: right;\">\n",
       "      <th></th>\n",
       "      <th>CreditScore</th>\n",
       "      <th>Gender</th>\n",
       "      <th>Age</th>\n",
       "      <th>Tenure</th>\n",
       "      <th>Balance</th>\n",
       "      <th>HasCrCard</th>\n",
       "      <th>IsActiveMember</th>\n",
       "      <th>EstimatedSalary</th>\n",
       "      <th>Exited</th>\n",
       "      <th>Geography_France</th>\n",
       "      <th>Geography_Germany</th>\n",
       "      <th>Geography_Spain</th>\n",
       "      <th>NumOfProducts_1</th>\n",
       "      <th>NumOfProducts_2</th>\n",
       "      <th>NumOfProducts_3</th>\n",
       "      <th>NumOfProducts_4</th>\n",
       "    </tr>\n",
       "  </thead>\n",
       "  <tbody>\n",
       "    <tr>\n",
       "      <th>0</th>\n",
       "      <td>619</td>\n",
       "      <td>1</td>\n",
       "      <td>42</td>\n",
       "      <td>2</td>\n",
       "      <td>0.00</td>\n",
       "      <td>1</td>\n",
       "      <td>1</td>\n",
       "      <td>101348.88</td>\n",
       "      <td>1</td>\n",
       "      <td>1</td>\n",
       "      <td>0</td>\n",
       "      <td>0</td>\n",
       "      <td>1</td>\n",
       "      <td>0</td>\n",
       "      <td>0</td>\n",
       "      <td>0</td>\n",
       "    </tr>\n",
       "    <tr>\n",
       "      <th>1</th>\n",
       "      <td>608</td>\n",
       "      <td>1</td>\n",
       "      <td>41</td>\n",
       "      <td>1</td>\n",
       "      <td>83807.86</td>\n",
       "      <td>0</td>\n",
       "      <td>1</td>\n",
       "      <td>112542.58</td>\n",
       "      <td>0</td>\n",
       "      <td>0</td>\n",
       "      <td>0</td>\n",
       "      <td>1</td>\n",
       "      <td>1</td>\n",
       "      <td>0</td>\n",
       "      <td>0</td>\n",
       "      <td>0</td>\n",
       "    </tr>\n",
       "    <tr>\n",
       "      <th>2</th>\n",
       "      <td>502</td>\n",
       "      <td>1</td>\n",
       "      <td>42</td>\n",
       "      <td>8</td>\n",
       "      <td>159660.80</td>\n",
       "      <td>1</td>\n",
       "      <td>0</td>\n",
       "      <td>113931.57</td>\n",
       "      <td>1</td>\n",
       "      <td>1</td>\n",
       "      <td>0</td>\n",
       "      <td>0</td>\n",
       "      <td>0</td>\n",
       "      <td>0</td>\n",
       "      <td>1</td>\n",
       "      <td>0</td>\n",
       "    </tr>\n",
       "    <tr>\n",
       "      <th>3</th>\n",
       "      <td>699</td>\n",
       "      <td>1</td>\n",
       "      <td>39</td>\n",
       "      <td>1</td>\n",
       "      <td>0.00</td>\n",
       "      <td>0</td>\n",
       "      <td>0</td>\n",
       "      <td>93826.63</td>\n",
       "      <td>0</td>\n",
       "      <td>1</td>\n",
       "      <td>0</td>\n",
       "      <td>0</td>\n",
       "      <td>0</td>\n",
       "      <td>1</td>\n",
       "      <td>0</td>\n",
       "      <td>0</td>\n",
       "    </tr>\n",
       "    <tr>\n",
       "      <th>4</th>\n",
       "      <td>850</td>\n",
       "      <td>1</td>\n",
       "      <td>43</td>\n",
       "      <td>2</td>\n",
       "      <td>125510.82</td>\n",
       "      <td>1</td>\n",
       "      <td>1</td>\n",
       "      <td>79084.10</td>\n",
       "      <td>0</td>\n",
       "      <td>0</td>\n",
       "      <td>0</td>\n",
       "      <td>1</td>\n",
       "      <td>1</td>\n",
       "      <td>0</td>\n",
       "      <td>0</td>\n",
       "      <td>0</td>\n",
       "    </tr>\n",
       "  </tbody>\n",
       "</table>\n",
       "</div>"
      ],
      "text/plain": [
       "   CreditScore  Gender  Age  Tenure    Balance  HasCrCard  IsActiveMember  \\\n",
       "0          619       1   42       2       0.00          1               1   \n",
       "1          608       1   41       1   83807.86          0               1   \n",
       "2          502       1   42       8  159660.80          1               0   \n",
       "3          699       1   39       1       0.00          0               0   \n",
       "4          850       1   43       2  125510.82          1               1   \n",
       "\n",
       "   EstimatedSalary  Exited  Geography_France  Geography_Germany  \\\n",
       "0        101348.88       1                 1                  0   \n",
       "1        112542.58       0                 0                  0   \n",
       "2        113931.57       1                 1                  0   \n",
       "3         93826.63       0                 1                  0   \n",
       "4         79084.10       0                 0                  0   \n",
       "\n",
       "   Geography_Spain  NumOfProducts_1  NumOfProducts_2  NumOfProducts_3  \\\n",
       "0                0                1                0                0   \n",
       "1                1                1                0                0   \n",
       "2                0                0                0                1   \n",
       "3                0                0                1                0   \n",
       "4                1                1                0                0   \n",
       "\n",
       "   NumOfProducts_4  \n",
       "0                0  \n",
       "1                0  \n",
       "2                0  \n",
       "3                0  \n",
       "4                0  "
      ]
     },
     "execution_count": 24,
     "metadata": {},
     "output_type": "execute_result"
    }
   ],
   "source": [
    "df1.head()"
   ]
  },
  {
   "cell_type": "code",
   "execution_count": 25,
   "id": "bb87dc95",
   "metadata": {
    "execution": {
     "iopub.execute_input": "2022-05-24T00:30:29.037447Z",
     "iopub.status.busy": "2022-05-24T00:30:29.037046Z",
     "iopub.status.idle": "2022-05-24T00:30:29.291791Z",
     "shell.execute_reply": "2022-05-24T00:30:29.291123Z"
    },
    "papermill": {
     "duration": 0.326704,
     "end_time": "2022-05-24T00:30:29.293950",
     "exception": false,
     "start_time": "2022-05-24T00:30:28.967246",
     "status": "completed"
    },
    "tags": []
   },
   "outputs": [
    {
     "data": {
      "text/plain": [
       "<matplotlib.legend.Legend at 0x7fa7d26bea10>"
      ]
     },
     "execution_count": 25,
     "metadata": {},
     "output_type": "execute_result"
    },
    {
     "data": {
      "image/png": "[encoded data removed]",
      "text/plain": [
       "<Figure size 432x288 with 1 Axes>"
      ]
     },
     "metadata": {
      "needs_background": "light"
     },
     "output_type": "display_data"
    }
   ],
   "source": [
    "tenure_exit_no = df1[df1['Exited'] == 0].Tenure\n",
    "tenure_exit_yes = df1[df1['Exited'] == 1].Tenure\n",
    "\n",
    "plt.xlabel('tenure')\n",
    "plt.ylabel('Number Of Customer')\n",
    "plt.title('Customer Churn Prediction Visualization')\n",
    "\n",
    "plt.hist([tenure_exit_yes,tenure_exit_no], color=['green','red'],label=['Exit=Yes','Exit=No'])\n",
    "plt.legend()"
   ]
  },
  {
   "cell_type": "code",
   "execution_count": 26,
   "id": "af180570",
   "metadata": {
    "execution": {
     "iopub.execute_input": "2022-05-24T00:30:29.431699Z",
     "iopub.status.busy": "2022-05-24T00:30:29.431414Z",
     "iopub.status.idle": "2022-05-24T00:30:29.690765Z",
     "shell.execute_reply": "2022-05-24T00:30:29.689796Z"
    },
    "papermill": {
     "duration": 0.330427,
     "end_time": "2022-05-24T00:30:29.693264",
     "exception": false,
     "start_time": "2022-05-24T00:30:29.362837",
     "status": "completed"
    },
    "tags": []
   },
   "outputs": [
    {
     "data": {
      "text/plain": [
       "<matplotlib.legend.Legend at 0x7fa7d25e4490>"
      ]
     },
     "execution_count": 26,
     "metadata": {},
     "output_type": "execute_result"
    },
    {
     "data": {
      "image/png": "[encoded data removed]",
      "text/plain": [
       "<Figure size 432x288 with 1 Axes>"
      ]
     },
     "metadata": {
      "needs_background": "light"
     },
     "output_type": "display_data"
    }
   ],
   "source": [
    "Age_exit_no = df1[df1['Exited'] == 0].Age\n",
    "Age_exit_yes = df1[df1['Exited'] == 1].Age\n",
    "\n",
    "plt.xlabel('tenure')\n",
    "plt.ylabel('Number Of Customer')\n",
    "plt.title('Customer Churn Prediction Visualization')\n",
    "\n",
    "plt.hist([Age_exit_yes,Age_exit_no], color=['green','red'],label=['Exit=Yes','Exit=No'])\n",
    "plt.legend()"
   ]
  },
  {
   "cell_type": "code",
   "execution_count": 27,
   "id": "fe755916",
   "metadata": {
    "execution": {
     "iopub.execute_input": "2022-05-24T00:30:29.832340Z",
     "iopub.status.busy": "2022-05-24T00:30:29.831835Z",
     "iopub.status.idle": "2022-05-24T00:30:30.118111Z",
     "shell.execute_reply": "2022-05-24T00:30:30.117236Z"
    },
    "papermill": {
     "duration": 0.358714,
     "end_time": "2022-05-24T00:30:30.120727",
     "exception": false,
     "start_time": "2022-05-24T00:30:29.762013",
     "status": "completed"
    },
    "tags": []
   },
   "outputs": [
    {
     "data": {
      "text/plain": [
       "<matplotlib.legend.Legend at 0x7fa7d2524a50>"
      ]
     },
     "execution_count": 27,
     "metadata": {},
     "output_type": "execute_result"
    },
    {
     "data": {
      "image/png": "[encoded data removed]",
      "text/plain": [
       "<Figure size 432x288 with 1 Axes>"
      ]
     },
     "metadata": {
      "needs_background": "light"
     },
     "output_type": "display_data"
    }
   ],
   "source": [
    "EstimatedSalary_exit_no = df1[df1['Exited'] == 0].EstimatedSalary\n",
    "EstimatedSalary_exit_yes = df1[df1['Exited'] == 1].EstimatedSalary\n",
    "\n",
    "plt.xlabel('EstimatedSalary')\n",
    "plt.ylabel('Number Of Customer')\n",
    "plt.title('Customer Churn Prediction Visualization')\n",
    "\n",
    "plt.hist([EstimatedSalary_exit_yes,EstimatedSalary_exit_no], color=['green','red'],label=['Exit=Yes','Exit=No'])\n",
    "plt.legend()"
   ]
  },
  {
   "cell_type": "code",
   "execution_count": 28,
   "id": "7d0cab1d",
   "metadata": {
    "execution": {
     "iopub.execute_input": "2022-05-24T00:30:30.263172Z",
     "iopub.status.busy": "2022-05-24T00:30:30.262709Z",
     "iopub.status.idle": "2022-05-24T00:30:30.516102Z",
     "shell.execute_reply": "2022-05-24T00:30:30.515089Z"
    },
    "papermill": {
     "duration": 0.327898,
     "end_time": "2022-05-24T00:30:30.518454",
     "exception": false,
     "start_time": "2022-05-24T00:30:30.190556",
     "status": "completed"
    },
    "tags": []
   },
   "outputs": [
    {
     "data": {
      "text/plain": [
       "<matplotlib.legend.Legend at 0x7fa7d2477350>"
      ]
     },
     "execution_count": 28,
     "metadata": {},
     "output_type": "execute_result"
    },
    {
     "data": {
      "image/png": "[encoded data removed]",
      "text/plain": [
       "<Figure size 432x288 with 1 Axes>"
      ]
     },
     "metadata": {
      "needs_background": "light"
     },
     "output_type": "display_data"
    }
   ],
   "source": [
    "HasCrCard_exit_no = df1[df1['Exited'] == 0].HasCrCard\n",
    "HasCrCard_exit_yes = df1[df1['Exited'] == 1].HasCrCard\n",
    "\n",
    "plt.xlabel('HasCrCard')\n",
    "plt.ylabel('Number Of Customer')\n",
    "plt.title('Customer Churn Prediction Visualization')\n",
    "\n",
    "plt.hist([HasCrCard_exit_yes,HasCrCard_exit_no], color=['green','red'],label=['Exit=Yes','Exit=No'])\n",
    "plt.legend()"
   ]
  },
  {
   "cell_type": "code",
   "execution_count": 29,
   "id": "2c338c9a",
   "metadata": {
    "execution": {
     "iopub.execute_input": "2022-05-24T00:30:30.666686Z",
     "iopub.status.busy": "2022-05-24T00:30:30.665604Z",
     "iopub.status.idle": "2022-05-24T00:30:30.932258Z",
     "shell.execute_reply": "2022-05-24T00:30:30.931544Z"
    },
    "papermill": {
     "duration": 0.342151,
     "end_time": "2022-05-24T00:30:30.934390",
     "exception": false,
     "start_time": "2022-05-24T00:30:30.592239",
     "status": "completed"
    },
    "tags": []
   },
   "outputs": [
    {
     "data": {
      "text/plain": [
       "<matplotlib.legend.Legend at 0x7fa7c0a08f50>"
      ]
     },
     "execution_count": 29,
     "metadata": {},
     "output_type": "execute_result"
    },
    {
     "data": {
      "image/png": "[encoded data removed]",
      "text/plain": [
       "<Figure size 432x288 with 1 Axes>"
      ]
     },
     "metadata": {
      "needs_background": "light"
     },
     "output_type": "display_data"
    }
   ],
   "source": [
    "CreditScore_exit_no = df1[df1['Exited'] == 0].CreditScore\n",
    "CreditScore_exit_yes = df1[df1['Exited'] == 1].CreditScore\n",
    "\n",
    "plt.xlabel('CreditScore')\n",
    "plt.ylabel('Number Of Customer')\n",
    "plt.title('Customer Churn Prediction Visualization')\n",
    "\n",
    "plt.hist([CreditScore_exit_yes,CreditScore_exit_no], color=['green','red'],label=['Exit=Yes','Exit=No'])\n",
    "plt.legend()"
   ]
  },
  {
   "cell_type": "code",
   "execution_count": 30,
   "id": "f9a375d0",
   "metadata": {
    "execution": {
     "iopub.execute_input": "2022-05-24T00:30:31.089979Z",
     "iopub.status.busy": "2022-05-24T00:30:31.089233Z",
     "iopub.status.idle": "2022-05-24T00:30:31.345260Z",
     "shell.execute_reply": "2022-05-24T00:30:31.344370Z"
    },
    "papermill": {
     "duration": 0.334185,
     "end_time": "2022-05-24T00:30:31.347345",
     "exception": false,
     "start_time": "2022-05-24T00:30:31.013160",
     "status": "completed"
    },
    "tags": []
   },
   "outputs": [
    {
     "data": {
      "text/plain": [
       "<matplotlib.legend.Legend at 0x7fa7c0947e50>"
      ]
     },
     "execution_count": 30,
     "metadata": {},
     "output_type": "execute_result"
    },
    {
     "data": {
      "image/png": "[encoded data removed]",
      "text/plain": [
       "<Figure size 432x288 with 1 Axes>"
      ]
     },
     "metadata": {
      "needs_background": "light"
     },
     "output_type": "display_data"
    }
   ],
   "source": [
    "Balance_exit_no = df1[df1['Exited'] == 0].Balance\n",
    "Balance_exit_yes = df1[df1['Exited'] == 1].Balance\n",
    "\n",
    "plt.xlabel('Balance')\n",
    "plt.ylabel('Number Of Customer')\n",
    "plt.title('Customer Churn Prediction Visualization')\n",
    "\n",
    "plt.hist([Balance_exit_yes,Balance_exit_no], color=['green','red'],label=['Exit=Yes','Exit=No'])\n",
    "plt.legend()"
   ]
  },
  {
   "cell_type": "code",
   "execution_count": 31,
   "id": "4a40f867",
   "metadata": {
    "execution": {
     "iopub.execute_input": "2022-05-24T00:30:31.497438Z",
     "iopub.status.busy": "2022-05-24T00:30:31.497140Z",
     "iopub.status.idle": "2022-05-24T00:30:31.507193Z",
     "shell.execute_reply": "2022-05-24T00:30:31.506596Z"
    },
    "papermill": {
     "duration": 0.087641,
     "end_time": "2022-05-24T00:30:31.509132",
     "exception": false,
     "start_time": "2022-05-24T00:30:31.421491",
     "status": "completed"
    },
    "tags": []
   },
   "outputs": [
    {
     "data": {
      "text/plain": [
       "CreditScore          0\n",
       "Gender               0\n",
       "Age                  0\n",
       "Tenure               0\n",
       "Balance              0\n",
       "HasCrCard            0\n",
       "IsActiveMember       0\n",
       "EstimatedSalary      0\n",
       "Exited               0\n",
       "Geography_France     0\n",
       "Geography_Germany    0\n",
       "Geography_Spain      0\n",
       "NumOfProducts_1      0\n",
       "NumOfProducts_2      0\n",
       "NumOfProducts_3      0\n",
       "NumOfProducts_4      0\n",
       "dtype: int64"
      ]
     },
     "execution_count": 31,
     "metadata": {},
     "output_type": "execute_result"
    }
   ],
   "source": [
    "df1.isnull().sum().sort_values(ascending = False)"
   ]
  },
  {
   "cell_type": "code",
   "execution_count": 32,
   "id": "615b72e7",
   "metadata": {
    "execution": {
     "iopub.execute_input": "2022-05-24T00:30:31.660392Z",
     "iopub.status.busy": "2022-05-24T00:30:31.659153Z",
     "iopub.status.idle": "2022-05-24T00:30:31.675758Z",
     "shell.execute_reply": "2022-05-24T00:30:31.674937Z"
    },
    "papermill": {
     "duration": 0.094224,
     "end_time": "2022-05-24T00:30:31.677999",
     "exception": false,
     "start_time": "2022-05-24T00:30:31.583775",
     "status": "completed"
    },
    "tags": []
   },
   "outputs": [
    {
     "data": {
      "text/html": [
       "<div>\n",
       "<style scoped>\n",
       "    .dataframe tbody tr th:only-of-type {\n",
       "        vertical-align: middle;\n",
       "    }\n",
       "\n",
       "    .dataframe tbody tr th {\n",
       "        vertical-align: top;\n",
       "    }\n",
       "\n",
       "    .dataframe thead th {\n",
       "        text-align: right;\n",
       "    }\n",
       "</style>\n",
       "<table border=\"1\" class=\"dataframe\">\n",
       "  <thead>\n",
       "    <tr style=\"text-align: right;\">\n",
       "      <th></th>\n",
       "      <th>CreditScore</th>\n",
       "      <th>Gender</th>\n",
       "      <th>Age</th>\n",
       "      <th>Tenure</th>\n",
       "      <th>Balance</th>\n",
       "      <th>HasCrCard</th>\n",
       "      <th>IsActiveMember</th>\n",
       "      <th>EstimatedSalary</th>\n",
       "      <th>Exited</th>\n",
       "      <th>Geography_France</th>\n",
       "      <th>Geography_Germany</th>\n",
       "      <th>Geography_Spain</th>\n",
       "      <th>NumOfProducts_1</th>\n",
       "      <th>NumOfProducts_2</th>\n",
       "      <th>NumOfProducts_3</th>\n",
       "      <th>NumOfProducts_4</th>\n",
       "    </tr>\n",
       "  </thead>\n",
       "  <tbody>\n",
       "    <tr>\n",
       "      <th>0</th>\n",
       "      <td>619</td>\n",
       "      <td>1</td>\n",
       "      <td>42</td>\n",
       "      <td>2</td>\n",
       "      <td>0.00</td>\n",
       "      <td>1</td>\n",
       "      <td>1</td>\n",
       "      <td>101348.88</td>\n",
       "      <td>1</td>\n",
       "      <td>1</td>\n",
       "      <td>0</td>\n",
       "      <td>0</td>\n",
       "      <td>1</td>\n",
       "      <td>0</td>\n",
       "      <td>0</td>\n",
       "      <td>0</td>\n",
       "    </tr>\n",
       "    <tr>\n",
       "      <th>1</th>\n",
       "      <td>608</td>\n",
       "      <td>1</td>\n",
       "      <td>41</td>\n",
       "      <td>1</td>\n",
       "      <td>83807.86</td>\n",
       "      <td>0</td>\n",
       "      <td>1</td>\n",
       "      <td>112542.58</td>\n",
       "      <td>0</td>\n",
       "      <td>0</td>\n",
       "      <td>0</td>\n",
       "      <td>1</td>\n",
       "      <td>1</td>\n",
       "      <td>0</td>\n",
       "      <td>0</td>\n",
       "      <td>0</td>\n",
       "    </tr>\n",
       "    <tr>\n",
       "      <th>2</th>\n",
       "      <td>502</td>\n",
       "      <td>1</td>\n",
       "      <td>42</td>\n",
       "      <td>8</td>\n",
       "      <td>159660.80</td>\n",
       "      <td>1</td>\n",
       "      <td>0</td>\n",
       "      <td>113931.57</td>\n",
       "      <td>1</td>\n",
       "      <td>1</td>\n",
       "      <td>0</td>\n",
       "      <td>0</td>\n",
       "      <td>0</td>\n",
       "      <td>0</td>\n",
       "      <td>1</td>\n",
       "      <td>0</td>\n",
       "    </tr>\n",
       "    <tr>\n",
       "      <th>3</th>\n",
       "      <td>699</td>\n",
       "      <td>1</td>\n",
       "      <td>39</td>\n",
       "      <td>1</td>\n",
       "      <td>0.00</td>\n",
       "      <td>0</td>\n",
       "      <td>0</td>\n",
       "      <td>93826.63</td>\n",
       "      <td>0</td>\n",
       "      <td>1</td>\n",
       "      <td>0</td>\n",
       "      <td>0</td>\n",
       "      <td>0</td>\n",
       "      <td>1</td>\n",
       "      <td>0</td>\n",
       "      <td>0</td>\n",
       "    </tr>\n",
       "    <tr>\n",
       "      <th>4</th>\n",
       "      <td>850</td>\n",
       "      <td>1</td>\n",
       "      <td>43</td>\n",
       "      <td>2</td>\n",
       "      <td>125510.82</td>\n",
       "      <td>1</td>\n",
       "      <td>1</td>\n",
       "      <td>79084.10</td>\n",
       "      <td>0</td>\n",
       "      <td>0</td>\n",
       "      <td>0</td>\n",
       "      <td>1</td>\n",
       "      <td>1</td>\n",
       "      <td>0</td>\n",
       "      <td>0</td>\n",
       "      <td>0</td>\n",
       "    </tr>\n",
       "  </tbody>\n",
       "</table>\n",
       "</div>"
      ],
      "text/plain": [
       "   CreditScore  Gender  Age  Tenure    Balance  HasCrCard  IsActiveMember  \\\n",
       "0          619       1   42       2       0.00          1               1   \n",
       "1          608       1   41       1   83807.86          0               1   \n",
       "2          502       1   42       8  159660.80          1               0   \n",
       "3          699       1   39       1       0.00          0               0   \n",
       "4          850       1   43       2  125510.82          1               1   \n",
       "\n",
       "   EstimatedSalary  Exited  Geography_France  Geography_Germany  \\\n",
       "0        101348.88       1                 1                  0   \n",
       "1        112542.58       0                 0                  0   \n",
       "2        113931.57       1                 1                  0   \n",
       "3         93826.63       0                 1                  0   \n",
       "4         79084.10       0                 0                  0   \n",
       "\n",
       "   Geography_Spain  NumOfProducts_1  NumOfProducts_2  NumOfProducts_3  \\\n",
       "0                0                1                0                0   \n",
       "1                1                1                0                0   \n",
       "2                0                0                0                1   \n",
       "3                0                0                1                0   \n",
       "4                1                1                0                0   \n",
       "\n",
       "   NumOfProducts_4  \n",
       "0                0  \n",
       "1                0  \n",
       "2                0  \n",
       "3                0  \n",
       "4                0  "
      ]
     },
     "execution_count": 32,
     "metadata": {},
     "output_type": "execute_result"
    }
   ],
   "source": [
    "df1.head()"
   ]
  },
  {
   "cell_type": "code",
   "execution_count": 33,
   "id": "096dae7f",
   "metadata": {
    "execution": {
     "iopub.execute_input": "2022-05-24T00:30:31.830513Z",
     "iopub.status.busy": "2022-05-24T00:30:31.829982Z",
     "iopub.status.idle": "2022-05-24T00:30:32.860332Z",
     "shell.execute_reply": "2022-05-24T00:30:32.859374Z"
    },
    "papermill": {
     "duration": 1.110171,
     "end_time": "2022-05-24T00:30:32.863067",
     "exception": false,
     "start_time": "2022-05-24T00:30:31.752896",
     "status": "completed"
    },
    "tags": []
   },
   "outputs": [],
   "source": [
    "col_to_scale = ['CreditScore','Age','Tenure','Balance','EstimatedSalary']\n",
    "\n",
    "from sklearn.preprocessing import MinMaxScaler\n",
    "scaler = MinMaxScaler()\n",
    "\n",
    "df1[col_to_scale] = scaler.fit_transform(df1[col_to_scale])"
   ]
  },
  {
   "cell_type": "code",
   "execution_count": 34,
   "id": "7c212b42",
   "metadata": {
    "execution": {
     "iopub.execute_input": "2022-05-24T00:30:33.018831Z",
     "iopub.status.busy": "2022-05-24T00:30:33.018537Z",
     "iopub.status.idle": "2022-05-24T00:30:33.036672Z",
     "shell.execute_reply": "2022-05-24T00:30:33.035671Z"
    },
    "papermill": {
     "duration": 0.09883,
     "end_time": "2022-05-24T00:30:33.038963",
     "exception": false,
     "start_time": "2022-05-24T00:30:32.940133",
     "status": "completed"
    },
    "tags": []
   },
   "outputs": [
    {
     "data": {
      "text/html": [
       "<div>\n",
       "<style scoped>\n",
       "    .dataframe tbody tr th:only-of-type {\n",
       "        vertical-align: middle;\n",
       "    }\n",
       "\n",
       "    .dataframe tbody tr th {\n",
       "        vertical-align: top;\n",
       "    }\n",
       "\n",
       "    .dataframe thead th {\n",
       "        text-align: right;\n",
       "    }\n",
       "</style>\n",
       "<table border=\"1\" class=\"dataframe\">\n",
       "  <thead>\n",
       "    <tr style=\"text-align: right;\">\n",
       "      <th></th>\n",
       "      <th>CreditScore</th>\n",
       "      <th>Age</th>\n",
       "      <th>Tenure</th>\n",
       "      <th>Balance</th>\n",
       "      <th>EstimatedSalary</th>\n",
       "    </tr>\n",
       "  </thead>\n",
       "  <tbody>\n",
       "    <tr>\n",
       "      <th>0</th>\n",
       "      <td>0.538</td>\n",
       "      <td>0.324324</td>\n",
       "      <td>0.2</td>\n",
       "      <td>0.000000</td>\n",
       "      <td>0.506735</td>\n",
       "    </tr>\n",
       "    <tr>\n",
       "      <th>1</th>\n",
       "      <td>0.516</td>\n",
       "      <td>0.310811</td>\n",
       "      <td>0.1</td>\n",
       "      <td>0.334031</td>\n",
       "      <td>0.562709</td>\n",
       "    </tr>\n",
       "    <tr>\n",
       "      <th>2</th>\n",
       "      <td>0.304</td>\n",
       "      <td>0.324324</td>\n",
       "      <td>0.8</td>\n",
       "      <td>0.636357</td>\n",
       "      <td>0.569654</td>\n",
       "    </tr>\n",
       "    <tr>\n",
       "      <th>3</th>\n",
       "      <td>0.698</td>\n",
       "      <td>0.283784</td>\n",
       "      <td>0.1</td>\n",
       "      <td>0.000000</td>\n",
       "      <td>0.469120</td>\n",
       "    </tr>\n",
       "    <tr>\n",
       "      <th>4</th>\n",
       "      <td>1.000</td>\n",
       "      <td>0.337838</td>\n",
       "      <td>0.2</td>\n",
       "      <td>0.500246</td>\n",
       "      <td>0.395400</td>\n",
       "    </tr>\n",
       "    <tr>\n",
       "      <th>...</th>\n",
       "      <td>...</td>\n",
       "      <td>...</td>\n",
       "      <td>...</td>\n",
       "      <td>...</td>\n",
       "      <td>...</td>\n",
       "    </tr>\n",
       "    <tr>\n",
       "      <th>9995</th>\n",
       "      <td>0.842</td>\n",
       "      <td>0.283784</td>\n",
       "      <td>0.5</td>\n",
       "      <td>0.000000</td>\n",
       "      <td>0.481341</td>\n",
       "    </tr>\n",
       "    <tr>\n",
       "      <th>9996</th>\n",
       "      <td>0.332</td>\n",
       "      <td>0.229730</td>\n",
       "      <td>1.0</td>\n",
       "      <td>0.228657</td>\n",
       "      <td>0.508490</td>\n",
       "    </tr>\n",
       "    <tr>\n",
       "      <th>9997</th>\n",
       "      <td>0.718</td>\n",
       "      <td>0.243243</td>\n",
       "      <td>0.7</td>\n",
       "      <td>0.000000</td>\n",
       "      <td>0.210390</td>\n",
       "    </tr>\n",
       "    <tr>\n",
       "      <th>9998</th>\n",
       "      <td>0.844</td>\n",
       "      <td>0.324324</td>\n",
       "      <td>0.3</td>\n",
       "      <td>0.299226</td>\n",
       "      <td>0.464429</td>\n",
       "    </tr>\n",
       "    <tr>\n",
       "      <th>9999</th>\n",
       "      <td>0.884</td>\n",
       "      <td>0.135135</td>\n",
       "      <td>0.4</td>\n",
       "      <td>0.518708</td>\n",
       "      <td>0.190914</td>\n",
       "    </tr>\n",
       "  </tbody>\n",
       "</table>\n",
       "<p>10000 rows × 5 columns</p>\n",
       "</div>"
      ],
      "text/plain": [
       "      CreditScore       Age  Tenure   Balance  EstimatedSalary\n",
       "0           0.538  0.324324     0.2  0.000000         0.506735\n",
       "1           0.516  0.310811     0.1  0.334031         0.562709\n",
       "2           0.304  0.324324     0.8  0.636357         0.569654\n",
       "3           0.698  0.283784     0.1  0.000000         0.469120\n",
       "4           1.000  0.337838     0.2  0.500246         0.395400\n",
       "...           ...       ...     ...       ...              ...\n",
       "9995        0.842  0.283784     0.5  0.000000         0.481341\n",
       "9996        0.332  0.229730     1.0  0.228657         0.508490\n",
       "9997        0.718  0.243243     0.7  0.000000         0.210390\n",
       "9998        0.844  0.324324     0.3  0.299226         0.464429\n",
       "9999        0.884  0.135135     0.4  0.518708         0.190914\n",
       "\n",
       "[10000 rows x 5 columns]"
      ]
     },
     "execution_count": 34,
     "metadata": {},
     "output_type": "execute_result"
    }
   ],
   "source": [
    "df1.loc[:,['CreditScore','Age','Tenure','Balance','EstimatedSalary']]"
   ]
  },
  {
   "cell_type": "code",
   "execution_count": 35,
   "id": "a9079c4e",
   "metadata": {
    "execution": {
     "iopub.execute_input": "2022-05-24T00:30:33.194154Z",
     "iopub.status.busy": "2022-05-24T00:30:33.193498Z",
     "iopub.status.idle": "2022-05-24T00:30:33.408922Z",
     "shell.execute_reply": "2022-05-24T00:30:33.407798Z"
    },
    "papermill": {
     "duration": 0.296751,
     "end_time": "2022-05-24T00:30:33.412198",
     "exception": false,
     "start_time": "2022-05-24T00:30:33.115447",
     "status": "completed"
    },
    "tags": []
   },
   "outputs": [
    {
     "name": "stdout",
     "output_type": "stream",
     "text": [
      "CreditScore : [0.538 0.516 0.304 0.698 1.    0.59  0.944 0.052 0.302 0.668 0.356 0.294\n",
      " 0.252 0.398 0.57  0.532 0.606 0.474 0.752 0.764 0.572 0.32  0.638 0.992\n",
      " 0.454 0.812 0.442 0.448 0.122 0.482 0.366 0.406 0.34  0.744 0.25  0.28\n",
      " 0.908 0.464 0.244 0.23  0.412 0.968 0.62  0.852 0.958 0.574 0.4   0.696\n",
      " 0.47  0.876 0.61  0.502 0.612 0.75  0.322 0.528 0.784 0.674 0.41  0.506\n",
      " 0.802 0.462 0.77  0.622 0.65  0.776 0.926 0.614 0.508 0.338 0.628 0.656\n",
      " 0.814 0.132 0.63  0.854 0.386 0.312 0.286 0.604 0.8   0.758 0.592 0.594\n",
      " 0.916 0.348 0.838 0.76  0.33  0.846 0.928 0.72  0.126 0.546 0.64  0.544\n",
      " 0.87  0.51  0.258 0.67  0.376 0.424 0.742 0.556 0.636 0.956 0.648 0.55\n",
      " 0.164 0.84  0.816 0.89  0.672 0.878 0.478 0.222 0.468 0.458 0.626 0.664\n",
      " 0.886 0.682 0.27  0.6   0.808 0.37  0.732 0.378 0.712 0.472 0.562 0.734\n",
      " 0.9   0.666 0.708 0.53  0.634 0.268 0.26  0.456 0.324 0.512 0.494 0.856\n",
      " 0.328 0.35  0.73  0.46  0.914 0.342 0.818 0.332 0.722 0.536 0.586 0.642\n",
      " 0.678 0.54  0.652 0.444 0.69  0.484 0.434 0.688 0.394 0.488 0.646 0.52\n",
      " 0.834 0.826 0.724 0.706 0.624 0.618 0.346 0.844 0.39  0.568 0.778 0.842\n",
      " 0.662 0.388 0.692 0.832 0.754 0.686 0.414 0.362 0.296 0.602 0.882 0.766\n",
      " 0.922 0.714 0.728 0.864 0.85  0.898 0.504 0.788 0.476 0.794 0.466 0.554\n",
      " 0.762 0.558 0.176 0.584 0.912 0.248 0.418 0.158 0.66  0.798 0.768 0.588\n",
      " 0.552 0.598 0.91  0.736 0.98  0.56  0.608 0.824 0.436 0.526 0.344 0.774\n",
      " 0.596 0.186 0.58  0.38  0.22  0.486 0.902 0.522 0.904 0.79  0.266 0.68\n",
      " 0.284 0.718 0.71  0.42  0.804 0.702 0.374 0.274 0.492 0.704 0.272 0.748\n",
      " 0.396 0.228 0.88  0.368 0.796 0.288 0.48  0.236 0.318 0.936 0.932 0.372\n",
      " 0.806 0.848 0.542 0.438 0.616 0.896 0.582 0.384 0.684 0.578 0.83  0.44\n",
      " 0.576 0.498 0.564 0.858 0.354 0.428 0.966 0.308 0.984 0.316 0.134 0.496\n",
      " 0.782 0.514 0.822 0.996 0.392 0.178 0.81  0.82  0.352 0.726 0.7   0.632\n",
      " 0.432 0.29  0.676 0.524 0.254 0.154 0.978 0.938 0.74  0.218 0.306 0.548\n",
      " 0.358 0.426 0.264 0.892 0.19  0.792 0.872 0.408 0.644 0.874 0.298 0.988\n",
      " 0.2   0.93  0.976 0.906 0.772 0.566 0.5   0.658 0.334 0.884 0.786 0.276\n",
      " 0.142 0.982 0.716 0.314 0.31  0.212 0.17  0.422 0.336 0.43  0.756 0.868\n",
      " 0.404 0.518 0.828 0.694 0.746 0.402 0.188 0.738 0.292 0.382 0.96  0.924\n",
      " 0.654 0.14  0.49  0.534 0.918 0.3   0.952 0.168 0.326 0.256 0.894 0.026\n",
      " 0.098 0.226 0.86  0.204 0.45  0.974 0.888 0.948 0.156 0.946 0.862 0.998\n",
      " 0.278 0.162 0.214 0.836 0.962 0.018 0.94  0.446 0.452 0.416 0.934 0.198\n",
      " 0.18  0.13  0.942 0.36  0.    0.192 0.15  0.78  0.262 0.866 0.016 0.99\n",
      " 0.202 0.216 0.238 0.146 0.108 0.972 0.246 0.97  0.232 0.282 0.002 0.954\n",
      " 0.986 0.03  0.364 0.128 0.206 0.242 0.102 0.92  0.964 0.24  0.194 0.144\n",
      " 0.95  0.16  0.172 0.152 0.116 0.994 0.136 0.174 0.12  0.208 0.114 0.21\n",
      " 0.224 0.072 0.11  0.066 0.09  0.234 0.166 0.184 0.148 0.196 0.182 0.034\n",
      " 0.124 0.064 0.046 0.138]\n",
      "Gender : [1 0]\n",
      "Age : [0.32432432 0.31081081 0.28378378 0.33783784 0.35135135 0.43243243\n",
      " 0.14864865 0.12162162 0.17567568 0.08108108 0.21621622 0.09459459\n",
      " 0.22972973 0.36486486 0.54054054 0.18918919 0.27027027 0.37837838\n",
      " 0.24324324 0.2027027  0.2972973  0.44594595 0.58108108 0.41891892\n",
      " 0.25675676 0.01351351 0.64864865 0.51351351 0.10810811 0.04054054\n",
      " 0.5        0.77027027 0.05405405 0.16216216 0.13513514 0.63513514\n",
      " 0.40540541 0.45945946 0.52702703 0.74324324 0.39189189 0.48648649\n",
      " 0.72972973 0.02702703 0.66216216 0.82432432 0.59459459 0.47297297\n",
      " 0.83783784 0.55405405 0.67567568 0.06756757 0.56756757 0.7027027\n",
      " 0.60810811 0.62162162 0.         0.86486486 0.68918919 0.75675676\n",
      " 0.71621622 0.78378378 0.7972973  0.94594595 0.90540541 0.89189189\n",
      " 0.81081081 0.85135135 1.         0.87837838]\n",
      "Tenure : [0.2 0.1 0.8 0.7 0.4 0.6 0.3 1.  0.5 0.9 0. ]\n",
      "Balance : [0.         0.33403148 0.63635718 ... 0.22865702 0.29922631 0.51870777]\n",
      "HasCrCard : [1 0]\n",
      "IsActiveMember : [1 0]\n",
      "EstimatedSalary : [0.50673489 0.56270874 0.56965435 ... 0.21039009 0.46442905 0.19091423]\n",
      "Exited : [1 0]\n",
      "Geography_France : [1 0]\n",
      "Geography_Germany : [0 1]\n",
      "Geography_Spain : [0 1]\n",
      "NumOfProducts_1 : [1 0]\n",
      "NumOfProducts_2 : [0 1]\n",
      "NumOfProducts_3 : [0 1]\n",
      "NumOfProducts_4 : [0 1]\n"
     ]
    }
   ],
   "source": [
    "for col in df1.columns:\n",
    "    print(f'{col} : {df1[col].unique()}')"
   ]
  },
  {
   "cell_type": "code",
   "execution_count": 36,
   "id": "51af7db2",
   "metadata": {
    "execution": {
     "iopub.execute_input": "2022-05-24T00:30:33.567466Z",
     "iopub.status.busy": "2022-05-24T00:30:33.566703Z",
     "iopub.status.idle": "2022-05-24T00:30:33.573050Z",
     "shell.execute_reply": "2022-05-24T00:30:33.572430Z"
    },
    "papermill": {
     "duration": 0.08621,
     "end_time": "2022-05-24T00:30:33.574902",
     "exception": false,
     "start_time": "2022-05-24T00:30:33.488692",
     "status": "completed"
    },
    "tags": []
   },
   "outputs": [],
   "source": [
    "X = df1.drop('Exited',axis=1)\n",
    "y = df1['Exited']"
   ]
  },
  {
   "cell_type": "code",
   "execution_count": 37,
   "id": "efb56392",
   "metadata": {
    "execution": {
     "iopub.execute_input": "2022-05-24T00:30:33.729639Z",
     "iopub.status.busy": "2022-05-24T00:30:33.728799Z",
     "iopub.status.idle": "2022-05-24T00:30:33.738603Z",
     "shell.execute_reply": "2022-05-24T00:30:33.737985Z"
    },
    "papermill": {
     "duration": 0.089798,
     "end_time": "2022-05-24T00:30:33.740912",
     "exception": false,
     "start_time": "2022-05-24T00:30:33.651114",
     "status": "completed"
    },
    "tags": []
   },
   "outputs": [
    {
     "name": "stdout",
     "output_type": "stream",
     "text": [
      "[0.62790406 2.45459008]\n"
     ]
    }
   ],
   "source": [
    "#class imbalance\n",
    "target_labels = np.array(y)\n",
    "from sklearn.utils.class_weight import compute_class_weight\n",
    "class_weights = compute_class_weight(class_weight = \"balanced\", classes= np.unique(target_labels), y= target_labels)\n",
    "print(class_weights)"
   ]
  },
  {
   "cell_type": "code",
   "execution_count": 38,
   "id": "86867163",
   "metadata": {
    "execution": {
     "iopub.execute_input": "2022-05-24T00:30:33.900278Z",
     "iopub.status.busy": "2022-05-24T00:30:33.899492Z",
     "iopub.status.idle": "2022-05-24T00:30:33.905787Z",
     "shell.execute_reply": "2022-05-24T00:30:33.905188Z"
    },
    "papermill": {
     "duration": 0.087934,
     "end_time": "2022-05-24T00:30:33.908194",
     "exception": false,
     "start_time": "2022-05-24T00:30:33.820260",
     "status": "completed"
    },
    "tags": []
   },
   "outputs": [
    {
     "data": {
      "text/plain": [
       "{0: 0.6279040562602034, 1: 2.454590083456063}"
      ]
     },
     "execution_count": 38,
     "metadata": {},
     "output_type": "execute_result"
    }
   ],
   "source": [
    "{v: k for v, k in enumerate(class_weights)}"
   ]
  },
  {
   "cell_type": "code",
   "execution_count": 39,
   "id": "1ec3c94c",
   "metadata": {
    "execution": {
     "iopub.execute_input": "2022-05-24T00:30:34.092820Z",
     "iopub.status.busy": "2022-05-24T00:30:34.092226Z",
     "iopub.status.idle": "2022-05-24T00:30:34.160406Z",
     "shell.execute_reply": "2022-05-24T00:30:34.159055Z"
    },
    "papermill": {
     "duration": 0.175468,
     "end_time": "2022-05-24T00:30:34.163182",
     "exception": false,
     "start_time": "2022-05-24T00:30:33.987714",
     "status": "completed"
    },
    "tags": []
   },
   "outputs": [],
   "source": [
    "from sklearn.model_selection import train_test_split\n",
    "X_train,X_test,y_train,y_test = train_test_split(X,y,test_size=0.2,random_state=5)"
   ]
  },
  {
   "cell_type": "code",
   "execution_count": 40,
   "id": "558041ec",
   "metadata": {
    "execution": {
     "iopub.execute_input": "2022-05-24T00:30:34.323124Z",
     "iopub.status.busy": "2022-05-24T00:30:34.322857Z",
     "iopub.status.idle": "2022-05-24T00:30:34.328834Z",
     "shell.execute_reply": "2022-05-24T00:30:34.327670Z"
    },
    "papermill": {
     "duration": 0.089121,
     "end_time": "2022-05-24T00:30:34.331030",
     "exception": false,
     "start_time": "2022-05-24T00:30:34.241909",
     "status": "completed"
    },
    "tags": []
   },
   "outputs": [
    {
     "data": {
      "text/plain": [
       "(8000, 15)"
      ]
     },
     "execution_count": 40,
     "metadata": {},
     "output_type": "execute_result"
    }
   ],
   "source": [
    "X_train.shape"
   ]
  },
  {
   "cell_type": "code",
   "execution_count": 41,
   "id": "72ee0482",
   "metadata": {
    "execution": {
     "iopub.execute_input": "2022-05-24T00:30:34.487616Z",
     "iopub.status.busy": "2022-05-24T00:30:34.487273Z",
     "iopub.status.idle": "2022-05-24T00:30:34.492497Z",
     "shell.execute_reply": "2022-05-24T00:30:34.491946Z"
    },
    "papermill": {
     "duration": 0.086156,
     "end_time": "2022-05-24T00:30:34.494609",
     "exception": false,
     "start_time": "2022-05-24T00:30:34.408453",
     "status": "completed"
    },
    "tags": []
   },
   "outputs": [
    {
     "data": {
      "text/plain": [
       "(2000, 15)"
      ]
     },
     "execution_count": 41,
     "metadata": {},
     "output_type": "execute_result"
    }
   ],
   "source": [
    "X_test.shape"
   ]
  },
  {
   "cell_type": "code",
   "execution_count": 42,
   "id": "df4508ea",
   "metadata": {
    "execution": {
     "iopub.execute_input": "2022-05-24T00:30:34.652168Z",
     "iopub.status.busy": "2022-05-24T00:30:34.651524Z",
     "iopub.status.idle": "2022-05-24T00:30:34.671981Z",
     "shell.execute_reply": "2022-05-24T00:30:34.671051Z"
    },
    "papermill": {
     "duration": 0.102034,
     "end_time": "2022-05-24T00:30:34.674267",
     "exception": false,
     "start_time": "2022-05-24T00:30:34.572233",
     "status": "completed"
    },
    "tags": []
   },
   "outputs": [
    {
     "data": {
      "text/html": [
       "<div>\n",
       "<style scoped>\n",
       "    .dataframe tbody tr th:only-of-type {\n",
       "        vertical-align: middle;\n",
       "    }\n",
       "\n",
       "    .dataframe tbody tr th {\n",
       "        vertical-align: top;\n",
       "    }\n",
       "\n",
       "    .dataframe thead th {\n",
       "        text-align: right;\n",
       "    }\n",
       "</style>\n",
       "<table border=\"1\" class=\"dataframe\">\n",
       "  <thead>\n",
       "    <tr style=\"text-align: right;\">\n",
       "      <th></th>\n",
       "      <th>CreditScore</th>\n",
       "      <th>Gender</th>\n",
       "      <th>Age</th>\n",
       "      <th>Tenure</th>\n",
       "      <th>Balance</th>\n",
       "      <th>HasCrCard</th>\n",
       "      <th>IsActiveMember</th>\n",
       "      <th>EstimatedSalary</th>\n",
       "      <th>Geography_France</th>\n",
       "      <th>Geography_Germany</th>\n",
       "      <th>Geography_Spain</th>\n",
       "      <th>NumOfProducts_1</th>\n",
       "      <th>NumOfProducts_2</th>\n",
       "      <th>NumOfProducts_3</th>\n",
       "      <th>NumOfProducts_4</th>\n",
       "    </tr>\n",
       "  </thead>\n",
       "  <tbody>\n",
       "    <tr>\n",
       "      <th>7751</th>\n",
       "      <td>0.800</td>\n",
       "      <td>1</td>\n",
       "      <td>0.283784</td>\n",
       "      <td>0.6</td>\n",
       "      <td>0.000000</td>\n",
       "      <td>0</td>\n",
       "      <td>0</td>\n",
       "      <td>0.096273</td>\n",
       "      <td>0</td>\n",
       "      <td>0</td>\n",
       "      <td>1</td>\n",
       "      <td>0</td>\n",
       "      <td>1</td>\n",
       "      <td>0</td>\n",
       "      <td>0</td>\n",
       "    </tr>\n",
       "    <tr>\n",
       "      <th>4154</th>\n",
       "      <td>0.752</td>\n",
       "      <td>0</td>\n",
       "      <td>0.216216</td>\n",
       "      <td>0.3</td>\n",
       "      <td>0.000000</td>\n",
       "      <td>1</td>\n",
       "      <td>0</td>\n",
       "      <td>0.981478</td>\n",
       "      <td>1</td>\n",
       "      <td>0</td>\n",
       "      <td>0</td>\n",
       "      <td>0</td>\n",
       "      <td>1</td>\n",
       "      <td>0</td>\n",
       "      <td>0</td>\n",
       "    </tr>\n",
       "    <tr>\n",
       "      <th>3881</th>\n",
       "      <td>0.476</td>\n",
       "      <td>1</td>\n",
       "      <td>0.621622</td>\n",
       "      <td>0.3</td>\n",
       "      <td>0.000000</td>\n",
       "      <td>1</td>\n",
       "      <td>1</td>\n",
       "      <td>0.948551</td>\n",
       "      <td>1</td>\n",
       "      <td>0</td>\n",
       "      <td>0</td>\n",
       "      <td>1</td>\n",
       "      <td>0</td>\n",
       "      <td>0</td>\n",
       "      <td>0</td>\n",
       "    </tr>\n",
       "    <tr>\n",
       "      <th>9238</th>\n",
       "      <td>0.846</td>\n",
       "      <td>1</td>\n",
       "      <td>0.432432</td>\n",
       "      <td>0.4</td>\n",
       "      <td>0.000000</td>\n",
       "      <td>1</td>\n",
       "      <td>0</td>\n",
       "      <td>0.646869</td>\n",
       "      <td>1</td>\n",
       "      <td>0</td>\n",
       "      <td>0</td>\n",
       "      <td>0</td>\n",
       "      <td>1</td>\n",
       "      <td>0</td>\n",
       "      <td>0</td>\n",
       "    </tr>\n",
       "    <tr>\n",
       "      <th>5210</th>\n",
       "      <td>0.402</td>\n",
       "      <td>0</td>\n",
       "      <td>0.229730</td>\n",
       "      <td>0.7</td>\n",
       "      <td>0.517012</td>\n",
       "      <td>0</td>\n",
       "      <td>0</td>\n",
       "      <td>0.434670</td>\n",
       "      <td>1</td>\n",
       "      <td>0</td>\n",
       "      <td>0</td>\n",
       "      <td>0</td>\n",
       "      <td>1</td>\n",
       "      <td>0</td>\n",
       "      <td>0</td>\n",
       "    </tr>\n",
       "    <tr>\n",
       "      <th>7487</th>\n",
       "      <td>0.602</td>\n",
       "      <td>1</td>\n",
       "      <td>0.513514</td>\n",
       "      <td>0.4</td>\n",
       "      <td>0.000000</td>\n",
       "      <td>0</td>\n",
       "      <td>0</td>\n",
       "      <td>0.421898</td>\n",
       "      <td>1</td>\n",
       "      <td>0</td>\n",
       "      <td>0</td>\n",
       "      <td>1</td>\n",
       "      <td>0</td>\n",
       "      <td>0</td>\n",
       "      <td>0</td>\n",
       "    </tr>\n",
       "    <tr>\n",
       "      <th>7542</th>\n",
       "      <td>0.314</td>\n",
       "      <td>1</td>\n",
       "      <td>0.216216</td>\n",
       "      <td>0.4</td>\n",
       "      <td>0.000000</td>\n",
       "      <td>1</td>\n",
       "      <td>1</td>\n",
       "      <td>0.303413</td>\n",
       "      <td>0</td>\n",
       "      <td>0</td>\n",
       "      <td>1</td>\n",
       "      <td>0</td>\n",
       "      <td>1</td>\n",
       "      <td>0</td>\n",
       "      <td>0</td>\n",
       "    </tr>\n",
       "    <tr>\n",
       "      <th>7524</th>\n",
       "      <td>0.620</td>\n",
       "      <td>1</td>\n",
       "      <td>0.297297</td>\n",
       "      <td>0.8</td>\n",
       "      <td>0.666330</td>\n",
       "      <td>1</td>\n",
       "      <td>1</td>\n",
       "      <td>0.925815</td>\n",
       "      <td>1</td>\n",
       "      <td>0</td>\n",
       "      <td>0</td>\n",
       "      <td>1</td>\n",
       "      <td>0</td>\n",
       "      <td>0</td>\n",
       "      <td>0</td>\n",
       "    </tr>\n",
       "    <tr>\n",
       "      <th>9412</th>\n",
       "      <td>0.750</td>\n",
       "      <td>0</td>\n",
       "      <td>0.108108</td>\n",
       "      <td>0.6</td>\n",
       "      <td>0.393324</td>\n",
       "      <td>0</td>\n",
       "      <td>0</td>\n",
       "      <td>0.668609</td>\n",
       "      <td>1</td>\n",
       "      <td>0</td>\n",
       "      <td>0</td>\n",
       "      <td>1</td>\n",
       "      <td>0</td>\n",
       "      <td>0</td>\n",
       "      <td>0</td>\n",
       "    </tr>\n",
       "    <tr>\n",
       "      <th>6377</th>\n",
       "      <td>0.684</td>\n",
       "      <td>0</td>\n",
       "      <td>0.202703</td>\n",
       "      <td>0.9</td>\n",
       "      <td>0.000000</td>\n",
       "      <td>1</td>\n",
       "      <td>0</td>\n",
       "      <td>0.567526</td>\n",
       "      <td>1</td>\n",
       "      <td>0</td>\n",
       "      <td>0</td>\n",
       "      <td>1</td>\n",
       "      <td>0</td>\n",
       "      <td>0</td>\n",
       "      <td>0</td>\n",
       "    </tr>\n",
       "  </tbody>\n",
       "</table>\n",
       "</div>"
      ],
      "text/plain": [
       "      CreditScore  Gender       Age  Tenure   Balance  HasCrCard  \\\n",
       "7751        0.800       1  0.283784     0.6  0.000000          0   \n",
       "4154        0.752       0  0.216216     0.3  0.000000          1   \n",
       "3881        0.476       1  0.621622     0.3  0.000000          1   \n",
       "9238        0.846       1  0.432432     0.4  0.000000          1   \n",
       "5210        0.402       0  0.229730     0.7  0.517012          0   \n",
       "7487        0.602       1  0.513514     0.4  0.000000          0   \n",
       "7542        0.314       1  0.216216     0.4  0.000000          1   \n",
       "7524        0.620       1  0.297297     0.8  0.666330          1   \n",
       "9412        0.750       0  0.108108     0.6  0.393324          0   \n",
       "6377        0.684       0  0.202703     0.9  0.000000          1   \n",
       "\n",
       "      IsActiveMember  EstimatedSalary  Geography_France  Geography_Germany  \\\n",
       "7751               0         0.096273                 0                  0   \n",
       "4154               0         0.981478                 1                  0   \n",
       "3881               1         0.948551                 1                  0   \n",
       "9238               0         0.646869                 1                  0   \n",
       "5210               0         0.434670                 1                  0   \n",
       "7487               0         0.421898                 1                  0   \n",
       "7542               1         0.303413                 0                  0   \n",
       "7524               1         0.925815                 1                  0   \n",
       "9412               0         0.668609                 1                  0   \n",
       "6377               0         0.567526                 1                  0   \n",
       "\n",
       "      Geography_Spain  NumOfProducts_1  NumOfProducts_2  NumOfProducts_3  \\\n",
       "7751                1                0                1                0   \n",
       "4154                0                0                1                0   \n",
       "3881                0                1                0                0   \n",
       "9238                0                0                1                0   \n",
       "5210                0                0                1                0   \n",
       "7487                0                1                0                0   \n",
       "7542                1                0                1                0   \n",
       "7524                0                1                0                0   \n",
       "9412                0                1                0                0   \n",
       "6377                0                1                0                0   \n",
       "\n",
       "      NumOfProducts_4  \n",
       "7751                0  \n",
       "4154                0  \n",
       "3881                0  \n",
       "9238                0  \n",
       "5210                0  \n",
       "7487                0  \n",
       "7542                0  \n",
       "7524                0  \n",
       "9412                0  \n",
       "6377                0  "
      ]
     },
     "execution_count": 42,
     "metadata": {},
     "output_type": "execute_result"
    }
   ],
   "source": [
    "X_train[:10]"
   ]
  },
  {
   "cell_type": "code",
   "execution_count": 43,
   "id": "45f729e7",
   "metadata": {
    "execution": {
     "iopub.execute_input": "2022-05-24T00:30:34.833969Z",
     "iopub.status.busy": "2022-05-24T00:30:34.833480Z",
     "iopub.status.idle": "2022-05-24T00:30:34.839450Z",
     "shell.execute_reply": "2022-05-24T00:30:34.838664Z"
    },
    "papermill": {
     "duration": 0.088535,
     "end_time": "2022-05-24T00:30:34.841572",
     "exception": false,
     "start_time": "2022-05-24T00:30:34.753037",
     "status": "completed"
    },
    "tags": []
   },
   "outputs": [
    {
     "data": {
      "text/plain": [
       "15"
      ]
     },
     "execution_count": 43,
     "metadata": {},
     "output_type": "execute_result"
    }
   ],
   "source": [
    "len(X_train.columns)"
   ]
  },
  {
   "cell_type": "code",
   "execution_count": 44,
   "id": "a5e49eb2",
   "metadata": {
    "execution": {
     "iopub.execute_input": "2022-05-24T00:30:35.003511Z",
     "iopub.status.busy": "2022-05-24T00:30:35.002969Z",
     "iopub.status.idle": "2022-05-24T00:30:41.755409Z",
     "shell.execute_reply": "2022-05-24T00:30:41.752812Z"
    },
    "papermill": {
     "duration": 6.835839,
     "end_time": "2022-05-24T00:30:41.757593",
     "exception": false,
     "start_time": "2022-05-24T00:30:34.921754",
     "status": "completed"
    },
    "tags": []
   },
   "outputs": [
    {
     "name": "stdout",
     "output_type": "stream",
     "text": [
      "Model: \"model\"\n",
      "_________________________________________________________________\n",
      "Layer (type)                 Output Shape              Param #   \n",
      "=================================================================\n",
      "input_1 (InputLayer)         [(None, 15)]              0         \n",
      "_________________________________________________________________\n",
      "dense (Dense)                (None, 1024)              16384     \n",
      "_________________________________________________________________\n",
      "dropout (Dropout)            (None, 1024)              0         \n",
      "_________________________________________________________________\n",
      "dense_1 (Dense)              (None, 521)               534025    \n",
      "_________________________________________________________________\n",
      "dropout_1 (Dropout)          (None, 521)               0         \n",
      "_________________________________________________________________\n",
      "dense_2 (Dense)              (None, 1)                 522       \n",
      "=================================================================\n",
      "Total params: 550,931\n",
      "Trainable params: 550,931\n",
      "Non-trainable params: 0\n",
      "_________________________________________________________________\n"
     ]
    },
    {
     "name": "stderr",
     "output_type": "stream",
     "text": [
      "2022-05-24 00:30:41.665903: I tensorflow/core/common_runtime/process_util.cc:146] Creating new thread pool with default inter op setting: 2. Tune using inter_op_parallelism_threads for best performance.\n"
     ]
    }
   ],
   "source": [
    "import tensorflow as tf\n",
    "from tensorflow import keras\n",
    "from keras.layers import Dense, Conv2D , MaxPool2D , Flatten , Dropout , Input , Activation\n",
    "\n",
    "encoder_input = keras.Input(shape=(15,))\n",
    "x = Dense(1024,activation='relu')(encoder_input)\n",
    "x = Dropout(0.7)(x)\n",
    "x = Dense(521,activation='relu')(x)\n",
    "x = Dropout(0.7)(x)\n",
    "x = Dense(1,activation='sigmoid')(x)\n",
    "model = keras.Model(encoder_input,x)\n",
    "model.summary()"
   ]
  },
  {
   "cell_type": "code",
   "execution_count": 45,
   "id": "642e3ac5",
   "metadata": {
    "execution": {
     "iopub.execute_input": "2022-05-24T00:30:41.921246Z",
     "iopub.status.busy": "2022-05-24T00:30:41.920948Z",
     "iopub.status.idle": "2022-05-24T00:33:26.951379Z",
     "shell.execute_reply": "2022-05-24T00:33:26.950532Z"
    },
    "papermill": {
     "duration": 165.116707,
     "end_time": "2022-05-24T00:33:26.954006",
     "exception": false,
     "start_time": "2022-05-24T00:30:41.837299",
     "status": "completed"
    },
    "tags": []
   },
   "outputs": [
    {
     "name": "stderr",
     "output_type": "stream",
     "text": [
      "2022-05-24 00:30:42.042096: I tensorflow/compiler/mlir/mlir_graph_optimization_pass.cc:185] None of the MLIR Optimization Passes are enabled (registered 2)\n"
     ]
    },
    {
     "name": "stdout",
     "output_type": "stream",
     "text": [
      "Epoch 1/100\n",
      "250/250 [==============================] - 3s 6ms/step - loss: 0.5805 - accuracy: 0.7034\n",
      "Epoch 2/100\n",
      "250/250 [==============================] - 2s 7ms/step - loss: 0.5313 - accuracy: 0.7362\n",
      "Epoch 3/100\n",
      "250/250 [==============================] - 2s 6ms/step - loss: 0.5182 - accuracy: 0.7452\n",
      "Epoch 4/100\n",
      "250/250 [==============================] - 2s 6ms/step - loss: 0.5147 - accuracy: 0.7549\n",
      "Epoch 5/100\n",
      "250/250 [==============================] - 2s 7ms/step - loss: 0.5125 - accuracy: 0.7617\n",
      "Epoch 6/100\n",
      "250/250 [==============================] - 2s 6ms/step - loss: 0.5068 - accuracy: 0.7632\n",
      "Epoch 7/100\n",
      "250/250 [==============================] - 2s 6ms/step - loss: 0.5018 - accuracy: 0.7617\n",
      "Epoch 8/100\n",
      "250/250 [==============================] - 2s 7ms/step - loss: 0.4975 - accuracy: 0.7650\n",
      "Epoch 9/100\n",
      "250/250 [==============================] - 2s 7ms/step - loss: 0.4941 - accuracy: 0.7713\n",
      "Epoch 10/100\n",
      "250/250 [==============================] - 2s 7ms/step - loss: 0.4962 - accuracy: 0.7665\n",
      "Epoch 11/100\n",
      "250/250 [==============================] - 2s 7ms/step - loss: 0.4936 - accuracy: 0.7729\n",
      "Epoch 12/100\n",
      "250/250 [==============================] - 2s 7ms/step - loss: 0.4931 - accuracy: 0.7736\n",
      "Epoch 13/100\n",
      "250/250 [==============================] - 2s 7ms/step - loss: 0.4876 - accuracy: 0.7725\n",
      "Epoch 14/100\n",
      "250/250 [==============================] - 2s 6ms/step - loss: 0.4874 - accuracy: 0.7688\n",
      "Epoch 15/100\n",
      "250/250 [==============================] - 2s 7ms/step - loss: 0.4849 - accuracy: 0.7776\n",
      "Epoch 16/100\n",
      "250/250 [==============================] - 2s 6ms/step - loss: 0.4881 - accuracy: 0.7707\n",
      "Epoch 17/100\n",
      "250/250 [==============================] - 2s 9ms/step - loss: 0.4868 - accuracy: 0.7719\n",
      "Epoch 18/100\n",
      "250/250 [==============================] - 2s 7ms/step - loss: 0.4835 - accuracy: 0.7789\n",
      "Epoch 19/100\n",
      "250/250 [==============================] - 2s 6ms/step - loss: 0.4827 - accuracy: 0.7765\n",
      "Epoch 20/100\n",
      "250/250 [==============================] - 2s 6ms/step - loss: 0.4817 - accuracy: 0.7761\n",
      "Epoch 21/100\n",
      "250/250 [==============================] - 2s 6ms/step - loss: 0.4868 - accuracy: 0.7789\n",
      "Epoch 22/100\n",
      "250/250 [==============================] - 2s 7ms/step - loss: 0.4807 - accuracy: 0.7803\n",
      "Epoch 23/100\n",
      "250/250 [==============================] - 2s 6ms/step - loss: 0.4763 - accuracy: 0.7822\n",
      "Epoch 24/100\n",
      "250/250 [==============================] - 2s 6ms/step - loss: 0.4796 - accuracy: 0.7803\n",
      "Epoch 25/100\n",
      "250/250 [==============================] - 2s 6ms/step - loss: 0.4809 - accuracy: 0.7765\n",
      "Epoch 26/100\n",
      "250/250 [==============================] - 2s 6ms/step - loss: 0.4820 - accuracy: 0.7834\n",
      "Epoch 27/100\n",
      "250/250 [==============================] - 2s 6ms/step - loss: 0.4803 - accuracy: 0.7757\n",
      "Epoch 28/100\n",
      "250/250 [==============================] - 2s 7ms/step - loss: 0.4769 - accuracy: 0.7818\n",
      "Epoch 29/100\n",
      "250/250 [==============================] - 2s 6ms/step - loss: 0.4784 - accuracy: 0.7819\n",
      "Epoch 30/100\n",
      "250/250 [==============================] - 2s 6ms/step - loss: 0.4756 - accuracy: 0.7851\n",
      "Epoch 31/100\n",
      "250/250 [==============================] - 2s 6ms/step - loss: 0.4788 - accuracy: 0.7795\n",
      "Epoch 32/100\n",
      "250/250 [==============================] - 2s 6ms/step - loss: 0.4776 - accuracy: 0.7814\n",
      "Epoch 33/100\n",
      "250/250 [==============================] - 2s 6ms/step - loss: 0.4757 - accuracy: 0.7824\n",
      "Epoch 34/100\n",
      "250/250 [==============================] - 2s 6ms/step - loss: 0.4770 - accuracy: 0.7880\n",
      "Epoch 35/100\n",
      "250/250 [==============================] - 2s 7ms/step - loss: 0.4773 - accuracy: 0.7879\n",
      "Epoch 36/100\n",
      "250/250 [==============================] - 2s 6ms/step - loss: 0.4756 - accuracy: 0.7816\n",
      "Epoch 37/100\n",
      "250/250 [==============================] - 2s 10ms/step - loss: 0.4786 - accuracy: 0.7849\n",
      "Epoch 38/100\n",
      "250/250 [==============================] - 2s 6ms/step - loss: 0.4775 - accuracy: 0.7854\n",
      "Epoch 39/100\n",
      "250/250 [==============================] - 2s 6ms/step - loss: 0.4724 - accuracy: 0.7901\n",
      "Epoch 40/100\n",
      "250/250 [==============================] - 2s 6ms/step - loss: 0.4716 - accuracy: 0.7909\n",
      "Epoch 41/100\n",
      "250/250 [==============================] - 2s 6ms/step - loss: 0.4722 - accuracy: 0.7955\n",
      "Epoch 42/100\n",
      "250/250 [==============================] - 2s 6ms/step - loss: 0.4713 - accuracy: 0.7879\n",
      "Epoch 43/100\n",
      "250/250 [==============================] - 2s 6ms/step - loss: 0.4710 - accuracy: 0.7887\n",
      "Epoch 44/100\n",
      "250/250 [==============================] - 2s 6ms/step - loss: 0.4752 - accuracy: 0.7883\n",
      "Epoch 45/100\n",
      "250/250 [==============================] - 2s 6ms/step - loss: 0.4693 - accuracy: 0.7984\n",
      "Epoch 46/100\n",
      "250/250 [==============================] - 2s 6ms/step - loss: 0.4693 - accuracy: 0.7926\n",
      "Epoch 47/100\n",
      "250/250 [==============================] - 2s 6ms/step - loss: 0.4684 - accuracy: 0.7966\n",
      "Epoch 48/100\n",
      "250/250 [==============================] - 2s 6ms/step - loss: 0.4695 - accuracy: 0.8001\n",
      "Epoch 49/100\n",
      "250/250 [==============================] - 2s 6ms/step - loss: 0.4708 - accuracy: 0.7903\n",
      "Epoch 50/100\n",
      "250/250 [==============================] - 2s 6ms/step - loss: 0.4706 - accuracy: 0.7925\n",
      "Epoch 51/100\n",
      "250/250 [==============================] - 2s 6ms/step - loss: 0.4666 - accuracy: 0.7924\n",
      "Epoch 52/100\n",
      "250/250 [==============================] - 2s 6ms/step - loss: 0.4689 - accuracy: 0.7916\n",
      "Epoch 53/100\n",
      "250/250 [==============================] - 2s 6ms/step - loss: 0.4702 - accuracy: 0.7869\n",
      "Epoch 54/100\n",
      "250/250 [==============================] - 2s 6ms/step - loss: 0.4660 - accuracy: 0.7912\n",
      "Epoch 55/100\n",
      "250/250 [==============================] - 2s 6ms/step - loss: 0.4733 - accuracy: 0.7939\n",
      "Epoch 56/100\n",
      "250/250 [==============================] - 2s 8ms/step - loss: 0.4715 - accuracy: 0.7952\n",
      "Epoch 57/100\n",
      "250/250 [==============================] - 2s 8ms/step - loss: 0.4705 - accuracy: 0.7946\n",
      "Epoch 58/100\n",
      "250/250 [==============================] - 2s 6ms/step - loss: 0.4677 - accuracy: 0.7936\n",
      "Epoch 59/100\n",
      "250/250 [==============================] - 2s 6ms/step - loss: 0.4661 - accuracy: 0.8009\n",
      "Epoch 60/100\n",
      "250/250 [==============================] - 2s 6ms/step - loss: 0.4662 - accuracy: 0.7940\n",
      "Epoch 61/100\n",
      "250/250 [==============================] - 2s 6ms/step - loss: 0.4658 - accuracy: 0.8006\n",
      "Epoch 62/100\n",
      "250/250 [==============================] - 2s 7ms/step - loss: 0.4622 - accuracy: 0.7941\n",
      "Epoch 63/100\n",
      "250/250 [==============================] - 2s 6ms/step - loss: 0.4662 - accuracy: 0.8001\n",
      "Epoch 64/100\n",
      "250/250 [==============================] - 2s 7ms/step - loss: 0.4646 - accuracy: 0.7989\n",
      "Epoch 65/100\n",
      "250/250 [==============================] - 2s 6ms/step - loss: 0.4686 - accuracy: 0.7937\n",
      "Epoch 66/100\n",
      "250/250 [==============================] - 2s 6ms/step - loss: 0.4630 - accuracy: 0.8040\n",
      "Epoch 67/100\n",
      "250/250 [==============================] - 2s 6ms/step - loss: 0.4645 - accuracy: 0.8018\n",
      "Epoch 68/100\n",
      "250/250 [==============================] - 2s 6ms/step - loss: 0.4598 - accuracy: 0.7990\n",
      "Epoch 69/100\n",
      "250/250 [==============================] - 2s 6ms/step - loss: 0.4665 - accuracy: 0.7965\n",
      "Epoch 70/100\n",
      "250/250 [==============================] - 2s 6ms/step - loss: 0.4664 - accuracy: 0.7931\n",
      "Epoch 71/100\n",
      "250/250 [==============================] - 2s 6ms/step - loss: 0.4626 - accuracy: 0.8046\n",
      "Epoch 72/100\n",
      "250/250 [==============================] - 2s 6ms/step - loss: 0.4613 - accuracy: 0.8019\n",
      "Epoch 73/100\n",
      "250/250 [==============================] - 2s 6ms/step - loss: 0.4630 - accuracy: 0.7985\n",
      "Epoch 74/100\n",
      "250/250 [==============================] - 2s 6ms/step - loss: 0.4644 - accuracy: 0.7981\n",
      "Epoch 75/100\n",
      "250/250 [==============================] - 2s 7ms/step - loss: 0.4668 - accuracy: 0.8014\n",
      "Epoch 76/100\n",
      "250/250 [==============================] - 2s 9ms/step - loss: 0.4589 - accuracy: 0.7995\n",
      "Epoch 77/100\n",
      "250/250 [==============================] - 2s 7ms/step - loss: 0.4621 - accuracy: 0.8000\n",
      "Epoch 78/100\n",
      "250/250 [==============================] - 2s 6ms/step - loss: 0.4606 - accuracy: 0.8027\n",
      "Epoch 79/100\n",
      "250/250 [==============================] - 2s 7ms/step - loss: 0.4586 - accuracy: 0.8092\n",
      "Epoch 80/100\n",
      "250/250 [==============================] - 2s 6ms/step - loss: 0.4596 - accuracy: 0.7989\n",
      "Epoch 81/100\n",
      "250/250 [==============================] - 2s 6ms/step - loss: 0.4555 - accuracy: 0.8123\n",
      "Epoch 82/100\n",
      "250/250 [==============================] - 2s 7ms/step - loss: 0.4564 - accuracy: 0.8029\n",
      "Epoch 83/100\n",
      "250/250 [==============================] - 2s 7ms/step - loss: 0.4641 - accuracy: 0.8010\n",
      "Epoch 84/100\n",
      "250/250 [==============================] - 2s 7ms/step - loss: 0.4611 - accuracy: 0.8046\n",
      "Epoch 85/100\n",
      "250/250 [==============================] - 2s 7ms/step - loss: 0.4587 - accuracy: 0.8000\n",
      "Epoch 86/100\n",
      "250/250 [==============================] - 2s 6ms/step - loss: 0.4595 - accuracy: 0.8095\n",
      "Epoch 87/100\n",
      "250/250 [==============================] - 2s 6ms/step - loss: 0.4556 - accuracy: 0.8046\n",
      "Epoch 88/100\n",
      "250/250 [==============================] - 2s 6ms/step - loss: 0.4575 - accuracy: 0.8066\n",
      "Epoch 89/100\n",
      "250/250 [==============================] - 2s 7ms/step - loss: 0.4628 - accuracy: 0.8066\n",
      "Epoch 90/100\n",
      "250/250 [==============================] - 2s 6ms/step - loss: 0.4585 - accuracy: 0.8059\n",
      "Epoch 91/100\n",
      "250/250 [==============================] - 2s 6ms/step - loss: 0.4601 - accuracy: 0.8025\n",
      "Epoch 92/100\n",
      "250/250 [==============================] - 2s 6ms/step - loss: 0.4544 - accuracy: 0.8030\n",
      "Epoch 93/100\n",
      "250/250 [==============================] - 2s 6ms/step - loss: 0.4547 - accuracy: 0.8119\n",
      "Epoch 94/100\n",
      "250/250 [==============================] - 2s 6ms/step - loss: 0.4573 - accuracy: 0.8087\n",
      "Epoch 95/100\n",
      "250/250 [==============================] - 2s 6ms/step - loss: 0.4592 - accuracy: 0.8033\n",
      "Epoch 96/100\n",
      "250/250 [==============================] - 2s 10ms/step - loss: 0.4519 - accuracy: 0.8077\n",
      "Epoch 97/100\n",
      "250/250 [==============================] - 2s 6ms/step - loss: 0.4501 - accuracy: 0.8044\n",
      "Epoch 98/100\n",
      "250/250 [==============================] - 2s 6ms/step - loss: 0.4492 - accuracy: 0.8079\n",
      "Epoch 99/100\n",
      "250/250 [==============================] - 2s 6ms/step - loss: 0.4534 - accuracy: 0.8056\n",
      "Epoch 100/100\n",
      "250/250 [==============================] - 2s 6ms/step - loss: 0.4533 - accuracy: 0.8075\n"
     ]
    },
    {
     "data": {
      "text/plain": [
       "<keras.callbacks.History at 0x7fa779c1a790>"
      ]
     },
     "execution_count": 45,
     "metadata": {},
     "output_type": "execute_result"
    }
   ],
   "source": [
    "model.compile(optimizer = 'adam',\n",
    "             loss='binary_crossentropy',\n",
    "             metrics=['accuracy'])\n",
    "\n",
    "model.fit(X_train,y_train,epochs=100,class_weight = {v: k for v, k in enumerate(class_weights)})"
   ]
  },
  {
   "cell_type": "code",
   "execution_count": 46,
   "id": "e18c3a33",
   "metadata": {
    "execution": {
     "iopub.execute_input": "2022-05-24T00:33:29.496028Z",
     "iopub.status.busy": "2022-05-24T00:33:29.495101Z",
     "iopub.status.idle": "2022-05-24T00:33:29.878543Z",
     "shell.execute_reply": "2022-05-24T00:33:29.877937Z"
    },
    "papermill": {
     "duration": 1.644349,
     "end_time": "2022-05-24T00:33:29.880630",
     "exception": false,
     "start_time": "2022-05-24T00:33:28.236281",
     "status": "completed"
    },
    "tags": []
   },
   "outputs": [
    {
     "name": "stdout",
     "output_type": "stream",
     "text": [
      "63/63 [==============================] - 0s 2ms/step - loss: 0.4488 - accuracy: 0.8205\n"
     ]
    },
    {
     "data": {
      "text/plain": [
       "[0.44879692792892456, 0.8205000162124634]"
      ]
     },
     "execution_count": 46,
     "metadata": {},
     "output_type": "execute_result"
    }
   ],
   "source": [
    "model.evaluate(X_test,y_test)"
   ]
  },
  {
   "cell_type": "code",
   "execution_count": 47,
   "id": "2a1068a7",
   "metadata": {
    "execution": {
     "iopub.execute_input": "2022-05-24T00:33:32.548691Z",
     "iopub.status.busy": "2022-05-24T00:33:32.547988Z",
     "iopub.status.idle": "2022-05-24T00:33:32.799906Z",
     "shell.execute_reply": "2022-05-24T00:33:32.799024Z"
    },
    "papermill": {
     "duration": 1.524956,
     "end_time": "2022-05-24T00:33:32.802186",
     "exception": false,
     "start_time": "2022-05-24T00:33:31.277230",
     "status": "completed"
    },
    "tags": []
   },
   "outputs": [
    {
     "data": {
      "text/plain": [
       "array([[0.20476973],\n",
       "       [0.261085  ],\n",
       "       [0.26303297],\n",
       "       [0.36661983],\n",
       "       [0.27891728]], dtype=float32)"
      ]
     },
     "execution_count": 47,
     "metadata": {},
     "output_type": "execute_result"
    }
   ],
   "source": [
    "yp = model.predict(X_test)\n",
    "yp[:5]"
   ]
  },
  {
   "cell_type": "code",
   "execution_count": 48,
   "id": "b6eaaaea",
   "metadata": {
    "execution": {
     "iopub.execute_input": "2022-05-24T00:33:35.353569Z",
     "iopub.status.busy": "2022-05-24T00:33:35.352976Z",
     "iopub.status.idle": "2022-05-24T00:33:35.362280Z",
     "shell.execute_reply": "2022-05-24T00:33:35.361624Z"
    },
    "papermill": {
     "duration": 1.291008,
     "end_time": "2022-05-24T00:33:35.364432",
     "exception": false,
     "start_time": "2022-05-24T00:33:34.073424",
     "status": "completed"
    },
    "tags": []
   },
   "outputs": [],
   "source": [
    "y_pred = []\n",
    "for element in yp:\n",
    "    if element > 0.5:\n",
    "        y_pred.append(1)\n",
    "    else:\n",
    "        y_pred.append(0)"
   ]
  },
  {
   "cell_type": "code",
   "execution_count": 49,
   "id": "6c4302c9",
   "metadata": {
    "execution": {
     "iopub.execute_input": "2022-05-24T00:33:37.905362Z",
     "iopub.status.busy": "2022-05-24T00:33:37.904821Z",
     "iopub.status.idle": "2022-05-24T00:33:37.918706Z",
     "shell.execute_reply": "2022-05-24T00:33:37.917871Z"
    },
    "papermill": {
     "duration": 1.28692,
     "end_time": "2022-05-24T00:33:37.920983",
     "exception": false,
     "start_time": "2022-05-24T00:33:36.634063",
     "status": "completed"
    },
    "tags": []
   },
   "outputs": [
    {
     "name": "stdout",
     "output_type": "stream",
     "text": [
      "              precision    recall  f1-score   support\n",
      "\n",
      "           0       0.91      0.86      0.88      1595\n",
      "           1       0.55      0.67      0.60       405\n",
      "\n",
      "    accuracy                           0.82      2000\n",
      "   macro avg       0.73      0.77      0.74      2000\n",
      "weighted avg       0.84      0.82      0.83      2000\n",
      "\n"
     ]
    }
   ],
   "source": [
    "from sklearn.metrics import confusion_matrix,classification_report\n",
    "\n",
    "print(classification_report(y_test,y_pred))"
   ]
  },
  {
   "cell_type": "code",
   "execution_count": 50,
   "id": "69c4eafb",
   "metadata": {
    "execution": {
     "iopub.execute_input": "2022-05-24T00:33:40.458784Z",
     "iopub.status.busy": "2022-05-24T00:33:40.458408Z",
     "iopub.status.idle": "2022-05-24T00:33:40.903314Z",
     "shell.execute_reply": "2022-05-24T00:33:40.902365Z"
    },
    "papermill": {
     "duration": 1.721142,
     "end_time": "2022-05-24T00:33:40.906050",
     "exception": false,
     "start_time": "2022-05-24T00:33:39.184908",
     "status": "completed"
    },
    "tags": []
   },
   "outputs": [
    {
     "data": {
      "text/plain": [
       "Text(69.0, 0.5, 'Truth')"
      ]
     },
     "execution_count": 50,
     "metadata": {},
     "output_type": "execute_result"
    },
    {
     "data": {
      "image/png": "[encoded data removed]",
      "text/plain": [
       "<Figure size 720x504 with 2 Axes>"
      ]
     },
     "metadata": {
      "needs_background": "light"
     },
     "output_type": "display_data"
    }
   ],
   "source": [
    "import seaborn as sns\n",
    "cm = tf.math.confusion_matrix(labels=y_test,predictions=y_pred)\n",
    "\n",
    "plt.figure(figsize = (10,7))\n",
    "sns.heatmap(cm,annot=True,fmt='d')\n",
    "plt.xlabel('predicted')\n",
    "plt.ylabel('Truth')"
   ]
  },
  {
   "cell_type": "code",
   "execution_count": 51,
   "id": "29f6fe83",
   "metadata": {
    "execution": {
     "iopub.execute_input": "2022-05-24T00:33:43.521625Z",
     "iopub.status.busy": "2022-05-24T00:33:43.520999Z",
     "iopub.status.idle": "2022-05-24T00:33:43.526367Z",
     "shell.execute_reply": "2022-05-24T00:33:43.525710Z"
    },
    "papermill": {
     "duration": 1.336326,
     "end_time": "2022-05-24T00:33:43.528229",
     "exception": false,
     "start_time": "2022-05-24T00:33:42.191903",
     "status": "completed"
    },
    "tags": []
   },
   "outputs": [
    {
     "data": {
      "text/plain": [
       "0.82"
      ]
     },
     "execution_count": 51,
     "metadata": {},
     "output_type": "execute_result"
    }
   ],
   "source": [
    "#accuracy\n",
    "round((1360+277)/(1360+277+128+235),2)"
   ]
  },
  {
   "cell_type": "code",
   "execution_count": 52,
   "id": "80ab0181",
   "metadata": {
    "execution": {
     "iopub.execute_input": "2022-05-24T00:33:46.062626Z",
     "iopub.status.busy": "2022-05-24T00:33:46.062135Z",
     "iopub.status.idle": "2022-05-24T00:33:46.067941Z",
     "shell.execute_reply": "2022-05-24T00:33:46.067013Z"
    },
    "papermill": {
     "duration": 1.271811,
     "end_time": "2022-05-24T00:33:46.070770",
     "exception": false,
     "start_time": "2022-05-24T00:33:44.798959",
     "status": "completed"
    },
    "tags": []
   },
   "outputs": [
    {
     "data": {
      "text/plain": [
       "0.91"
      ]
     },
     "execution_count": 52,
     "metadata": {},
     "output_type": "execute_result"
    }
   ],
   "source": [
    "#precision for 0 class customers who didnt exit\n",
    "round(1360 / (1360+128),2)"
   ]
  },
  {
   "cell_type": "code",
   "execution_count": 53,
   "id": "ba1a07b0",
   "metadata": {
    "execution": {
     "iopub.execute_input": "2022-05-24T00:33:48.601165Z",
     "iopub.status.busy": "2022-05-24T00:33:48.600844Z",
     "iopub.status.idle": "2022-05-24T00:33:48.606798Z",
     "shell.execute_reply": "2022-05-24T00:33:48.605973Z"
    },
    "papermill": {
     "duration": 1.274746,
     "end_time": "2022-05-24T00:33:48.608767",
     "exception": false,
     "start_time": "2022-05-24T00:33:47.334021",
     "status": "completed"
    },
    "tags": []
   },
   "outputs": [
    {
     "data": {
      "text/plain": [
       "0.54"
      ]
     },
     "execution_count": 53,
     "metadata": {},
     "output_type": "execute_result"
    }
   ],
   "source": [
    "#precision for 1 class customers who exit\n",
    "round(277 / (277+235),2)"
   ]
  },
  {
   "cell_type": "code",
   "execution_count": 54,
   "id": "de3d5cb5",
   "metadata": {
    "execution": {
     "iopub.execute_input": "2022-05-24T00:33:51.172767Z",
     "iopub.status.busy": "2022-05-24T00:33:51.172212Z",
     "iopub.status.idle": "2022-05-24T00:33:51.176996Z",
     "shell.execute_reply": "2022-05-24T00:33:51.176464Z"
    },
    "papermill": {
     "duration": 1.284826,
     "end_time": "2022-05-24T00:33:51.178917",
     "exception": false,
     "start_time": "2022-05-24T00:33:49.894091",
     "status": "completed"
    },
    "tags": []
   },
   "outputs": [
    {
     "data": {
      "text/plain": [
       "0.85"
      ]
     },
     "execution_count": 54,
     "metadata": {},
     "output_type": "execute_result"
    }
   ],
   "source": [
    "#Recall for 0 class customers who didnt exit\n",
    "round(1360 / (1360+235),2)"
   ]
  },
  {
   "cell_type": "code",
   "execution_count": 55,
   "id": "d714df46",
   "metadata": {
    "execution": {
     "iopub.execute_input": "2022-05-24T00:33:53.885144Z",
     "iopub.status.busy": "2022-05-24T00:33:53.884879Z",
     "iopub.status.idle": "2022-05-24T00:33:53.891077Z",
     "shell.execute_reply": "2022-05-24T00:33:53.890238Z"
    },
    "papermill": {
     "duration": 1.272875,
     "end_time": "2022-05-24T00:33:53.893535",
     "exception": false,
     "start_time": "2022-05-24T00:33:52.620660",
     "status": "completed"
    },
    "tags": []
   },
   "outputs": [
    {
     "data": {
      "text/plain": [
       "0.68"
      ]
     },
     "execution_count": 55,
     "metadata": {},
     "output_type": "execute_result"
    }
   ],
   "source": [
    "#Recall for 1 class customers who exit\n",
    "round(277 / (277+128),2)"
   ]
  },
  {
   "cell_type": "code",
   "execution_count": null,
   "id": "c144637d",
   "metadata": {
    "papermill": {
     "duration": 1.265797,
     "end_time": "2022-05-24T00:33:56.425400",
     "exception": false,
     "start_time": "2022-05-24T00:33:55.159603",
     "status": "completed"
    },
    "tags": []
   },
   "outputs": [],
   "source": []
  }
 ],
 "metadata": {
  "kernelspec": {
   "display_name": "Python 3",
   "language": "python",
   "name": "python3"
  },
  "language_info": {
   "codemirror_mode": {
    "name": "ipython",
    "version": 3
   },
   "file_extension": ".py",
   "mimetype": "text/x-python",
   "name": "python",
   "nbconvert_exporter": "python",
   "pygments_lexer": "ipython3",
   "version": "3.7.12"
  },
  "papermill": {
   "default_parameters": {},
   "duration": 226.446296,
   "end_time": "2022-05-24T00:34:00.706721",
   "environment_variables": {},
   "exception": null,
   "input_path": "__notebook__.ipynb",
   "output_path": "__notebook__.ipynb",
   "parameters": {},
   "start_time": "2022-05-24T00:30:14.260425",
   "version": "2.3.4"
  }
 },
 "nbformat": 4,
 "nbformat_minor": 5
}
